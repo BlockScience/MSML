{
 "cells": [
  {
   "cell_type": "code",
   "execution_count": 1,
   "id": "5498d0c4",
   "metadata": {},
   "outputs": [],
   "source": [
    "import os\n",
    "\n",
    "os.chdir(\"..\")\n",
    "from src import (load_from_json, create_action_chains_graph, write_out_boundary_actions,\n",
    "                      write_out_policies, write_out_mechanisms, load_svg_graphviz, write_basic_report_full,\n",
    "                      write_action_chain_reports, write_spec_tree, create_parameter_impact_table,\n",
    "                     write_entity_reports)\n",
    "from IPython.display import display, display_html\n",
    "from copy import deepcopy\n",
    "from examples.StarterRepo.src import math_spec_json\n",
    "ms = load_from_json(deepcopy(math_spec_json))"
   ]
  },
  {
   "cell_type": "code",
   "execution_count": 2,
   "id": "5d0e4a4f",
   "metadata": {},
   "outputs": [
    {
     "data": {
      "text/plain": [
       "[<src.Classes.Policy.Policy at 0x7fd6a9cd7850>,\n",
       " <src.Classes.Policy.Policy at 0x7fd6a9cd7850>]"
      ]
     },
     "execution_count": 2,
     "metadata": {},
     "output_type": "execute_result"
    }
   ],
   "source": [
    "[ms.policies['Dummy Policy'], ms.policies['Dummy Policy']]"
   ]
  },
  {
   "cell_type": "code",
   "execution_count": 4,
   "id": "30784c7c",
   "metadata": {},
   "outputs": [
    {
     "name": "stdout",
     "output_type": "stream",
     "text": [
      "```mermaid\n",
      "graph TB\n",
      "X1[Dummy Policy]\n",
      "```\n"
     ]
    }
   ],
   "source": [
    "print(ms.policies['Dummy Policy'].render_mermaid_root())"
   ]
  },
  {
   "cell_type": "code",
   "execution_count": null,
   "id": "9d10b738",
   "metadata": {},
   "outputs": [],
   "source": []
  }
 ],
 "metadata": {
  "kernelspec": {
   "display_name": "Python 3 (ipykernel)",
   "language": "python",
   "name": "python3"
  },
  "language_info": {
   "codemirror_mode": {
    "name": "ipython",
    "version": 3
   },
   "file_extension": ".py",
   "mimetype": "text/x-python",
   "name": "python",
   "nbconvert_exporter": "python",
   "pygments_lexer": "ipython3",
   "version": "3.9.12"
  }
 },
 "nbformat": 4,
 "nbformat_minor": 5
}
