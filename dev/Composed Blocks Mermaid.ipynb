{
 "cells": [
  {
   "cell_type": "code",
   "execution_count": 104,
   "id": "54b1f094",
   "metadata": {},
   "outputs": [],
   "source": [
    "class Block:\n",
    "    \n",
    "    def __init__(self,name):\n",
    "        self.name = name\n",
    "    \n",
    "    def render(self, i):\n",
    "        i += 1\n",
    "        return \"X{}[{}]\".format(i, self.name), i\n",
    "        \n",
    "class ParallelBlock:\n",
    "    def __init__(self, name, components):\n",
    "        self.name = name\n",
    "        self.components = components\n",
    "    \n",
    "    def render(self, i):\n",
    "        start_i = i\n",
    "        out = \"\"\n",
    "        \n",
    "        nodes = []\n",
    "        \n",
    "        # Render components\n",
    "        for component in self.components:\n",
    "            component, i = component.render(i)\n",
    "            out += component\n",
    "            out += \"\\n\"\n",
    "            nodes.append(i)\n",
    "        end_i = i\n",
    "        \n",
    "        # Render invisible connections\n",
    "        for ix1, ix2 in zip(nodes[:-1], nodes[1:]):\n",
    "            out += \"X{} ~~~ X{}\".format(ix1, ix2)\n",
    "            out += \"\\n\"\n",
    "        \n",
    "        \n",
    "        # Subgraph it\n",
    "        i += 1\n",
    "        out = \"subgraph X{}[{}]\\n\".format(i, self.name) + out\n",
    "        out += \"end\"\n",
    "        \n",
    "        return out, i\n",
    "        \n",
    "class StackBlock:\n",
    "    def __init__(self, name, components):\n",
    "        self.name = name\n",
    "        self.components = components\n",
    "        \n",
    "    def render(self, i):\n",
    "        start_i = i\n",
    "        out = \"\"\n",
    "        \n",
    "        nodes = []\n",
    "        \n",
    "        # Render components\n",
    "        for component in self.components:\n",
    "            component, i = component.render(i)\n",
    "            out += component\n",
    "            out += \"\\n\"\n",
    "            nodes.append(i)\n",
    "        end_i = i\n",
    "        \n",
    "        # Render connections\n",
    "        for ix1, ix2 in zip(nodes[:-1], nodes[1:]):\n",
    "            out += \"X{}-->X{}\".format(ix1, ix2)\n",
    "            out += \"\\n\"\n",
    "        \n",
    "        # Subgraph it\n",
    "        i += 1\n",
    "        out = \"subgraph X{}[{}]\\n\".format(i, self.name) + out\n",
    "        out += \"end\"\n",
    "        \n",
    "        return out, i"
   ]
  },
  {
   "cell_type": "code",
   "execution_count": null,
   "id": "e6219e73",
   "metadata": {},
   "outputs": [],
   "source": []
  },
  {
   "cell_type": "code",
   "execution_count": 105,
   "id": "70bc958e",
   "metadata": {},
   "outputs": [],
   "source": [
    "block_a = Block(name='A')\n",
    "block_b = Block(name='B')\n",
    "block_c = Block(name='C')\n",
    "block_d = Block(name='D')\n",
    "block_e = Block(name='E')"
   ]
  },
  {
   "cell_type": "code",
   "execution_count": 106,
   "id": "65bf24e6",
   "metadata": {},
   "outputs": [
    {
     "name": "stdout",
     "output_type": "stream",
     "text": [
      "subgraph X4[Simulation 1]\n",
      "X1[A]\n",
      "X2[B]\n",
      "X3[C]\n",
      "X1-->X2\n",
      "X2-->X3\n",
      "end\n"
     ]
    }
   ],
   "source": [
    "simulation1_block = StackBlock('Simulation 1', [block_a, block_b, block_c])\n",
    "i = 0\n",
    "g, i = simulation1_block.render(i)\n",
    "print(g)"
   ]
  },
  {
   "cell_type": "code",
   "execution_count": 107,
   "id": "dda16b38",
   "metadata": {},
   "outputs": [
    {
     "name": "stdout",
     "output_type": "stream",
     "text": [
      "subgraph X4[Simulation 2]\n",
      "X1[A]\n",
      "X2[B]\n",
      "X3[C]\n",
      "X1 ~~~ X2\n",
      "X2 ~~~ X3\n",
      "end\n"
     ]
    }
   ],
   "source": [
    "simulation2_block = ParallelBlock('Simulation 2', [block_a, block_b, block_c])\n",
    "i = 0\n",
    "g, i = simulation2_block.render(i)\n",
    "print(g)"
   ]
  },
  {
   "cell_type": "code",
   "execution_count": 103,
   "id": "19a54af8",
   "metadata": {},
   "outputs": [
    {
     "name": "stdout",
     "output_type": "stream",
     "text": [
      "subgraph X8[Simulation 3]\n",
      "subgraph X3[Parallel Block]\n",
      "X1[A]\n",
      "X2[B]\n",
      "X1 ~~~ X2\n",
      "end\n",
      "subgraph X6[Stack Block]\n",
      "X4[C]\n",
      "X5[D]\n",
      "X4-->X5\n",
      "end\n",
      "X7[E]\n",
      "X1-->X2\n",
      "X2-->X3\n",
      "X3-->X4\n",
      "X4-->X5\n",
      "X5-->X6\n",
      "X6-->X7\n",
      "end\n"
     ]
    }
   ],
   "source": [
    "parallel_block = ParallelBlock('Parallel Block', [block_a, block_b])\n",
    "stack_block = StackBlock('Stack Block', [block_c, block_d])\n",
    "simulation3_block = StackBlock(\"Simulation 3\", [parallel_block, stack_block, block_e])\n",
    "i = 0\n",
    "g, i = simulation3_block.render(i)\n",
    "print(g)"
   ]
  },
  {
   "cell_type": "code",
   "execution_count": null,
   "id": "376f1616",
   "metadata": {},
   "outputs": [],
   "source": [
    "simulation2_block = StackBlock('Simulation 2', [block_a, block_b, block_c])\n",
    "i = 0\n",
    "g, i = simulation1_block.render(i)\n",
    "print(g)"
   ]
  },
  {
   "cell_type": "code",
   "execution_count": null,
   "id": "09c55813",
   "metadata": {},
   "outputs": [],
   "source": []
  },
  {
   "cell_type": "markdown",
   "id": "05b12861",
   "metadata": {},
   "source": [
    "```mermaid\n",
    "graph LR\n",
    "A[JSON Object \\n\\n Each spec has a repo for tracking changes \\n Must conform to the json specification \\n Defines all aspects of the spec including blocks, spaces and actions] -->B[MSML Object \\n\\n JSON file and parsed, with validations and mappings along the way \\n Can show different views on the fly]\n",
    "    B --> C[Report Outputs \\n\\n Automatically build reports for the full spec or subviews \\n Example: all blocks with an effect on variable XYZ]\n",
    "\n",
    "```"
   ]
  },
  {
   "cell_type": "code",
   "execution_count": 19,
   "id": "926d1eda",
   "metadata": {},
   "outputs": [
    {
     "data": {
      "text/plain": [
       "'```mermaid\\ngraph LR\\nA[JSON Object \\n\\n Each spec has a repo for tracking changes \\n Must conform to the json specification \\n Defines all aspects of the spec including blocks, spaces and actions] -->B[MSML Object \\n\\n JSON file and parsed, with validations and mappings along the way \\n Can show different views on the fly]\\n    B --> C[Report Outputs \\n\\n Automatically build reports for the full spec or subviews \\n Example: all blocks with an effect on variable XYZ]\\n\\n```'"
      ]
     },
     "metadata": {},
     "output_type": "display_data"
    }
   ],
   "source": [
    "from IPython.display import display\n",
    "\n",
    "display(\"\"\"```mermaid\n",
    "graph LR\n",
    "A[JSON Object \\n\\n Each spec has a repo for tracking changes \\n Must conform to the json specification \\n Defines all aspects of the spec including blocks, spaces and actions] -->B[MSML Object \\n\\n JSON file and parsed, with validations and mappings along the way \\n Can show different views on the fly]\n",
    "    B --> C[Report Outputs \\n\\n Automatically build reports for the full spec or subviews \\n Example: all blocks with an effect on variable XYZ]\n",
    "\n",
    "```\"\"\")"
   ]
  },
  {
   "cell_type": "code",
   "execution_count": 16,
   "id": "14226623",
   "metadata": {},
   "outputs": [],
   "source": []
  },
  {
   "cell_type": "code",
   "execution_count": null,
   "id": "fbc63928",
   "metadata": {},
   "outputs": [],
   "source": []
  }
 ],
 "metadata": {
  "kernelspec": {
   "display_name": "Python 3 (ipykernel)",
   "language": "python",
   "name": "python3"
  },
  "language_info": {
   "codemirror_mode": {
    "name": "ipython",
    "version": 3
   },
   "file_extension": ".py",
   "mimetype": "text/x-python",
   "name": "python",
   "nbconvert_exporter": "python",
   "pygments_lexer": "ipython3",
   "version": "3.9.12"
  }
 },
 "nbformat": 4,
 "nbformat_minor": 5
}
