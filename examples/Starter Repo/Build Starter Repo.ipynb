{
 "cells": [
  {
   "cell_type": "code",
   "execution_count": 1,
   "id": "8f2ca968",
   "metadata": {},
   "outputs": [],
   "source": [
    "import os\n",
    "\n",
    "os.chdir(\"../..\")"
   ]
  },
  {
   "cell_type": "code",
   "execution_count": 2,
   "id": "27936018",
   "metadata": {},
   "outputs": [],
   "source": [
    "folder = \"examples/Starter Repo\""
   ]
  },
  {
   "cell_type": "code",
   "execution_count": 3,
   "id": "6a82ebed",
   "metadata": {},
   "outputs": [],
   "source": [
    "assert \"src\" not in os.listdir(folder), \"src folder is already created, delete first\"\n",
    "folder = folder + \"/src\""
   ]
  },
  {
   "cell_type": "code",
   "execution_count": 6,
   "id": "0c0640fc",
   "metadata": {},
   "outputs": [],
   "source": [
    "os.makedirs(folder)"
   ]
  },
  {
   "cell_type": "code",
   "execution_count": 7,
   "id": "72c305c6",
   "metadata": {},
   "outputs": [],
   "source": [
    "# Make a dummy repo that can be saved as an artifact in the library\n",
    "# Then copy and paste it in\n",
    "\n",
    "# But first start here with the repo so that we can actually see what it would look like to load and use it!!"
   ]
  },
  {
   "cell_type": "code",
   "execution_count": null,
   "id": "5b3fe5d3",
   "metadata": {},
   "outputs": [],
   "source": []
  }
 ],
 "metadata": {
  "kernelspec": {
   "display_name": "Python 3 (ipykernel)",
   "language": "python",
   "name": "python3"
  },
  "language_info": {
   "codemirror_mode": {
    "name": "ipython",
    "version": 3
   },
   "file_extension": ".py",
   "mimetype": "text/x-python",
   "name": "python",
   "nbconvert_exporter": "python",
   "pygments_lexer": "ipython3",
   "version": "3.9.12"
  }
 },
 "nbformat": 4,
 "nbformat_minor": 5
}
