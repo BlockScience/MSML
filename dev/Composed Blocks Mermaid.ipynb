{
 "cells": [
  {
   "cell_type": "code",
   "execution_count": 29,
   "id": "9239bef1",
   "metadata": {},
   "outputs": [],
   "source": [
    "class Block:\n",
    "    \n",
    "    def __init__(self,name):\n",
    "        self.name = name\n",
    "    \n",
    "    def render(self, i):\n",
    "        return \"X{}[{}]\".format(i, self.name), i\n",
    "        \n",
    "class ParallelBlock:\n",
    "    def __init__(self, name, components):\n",
    "        self.name = name\n",
    "        self.components\n",
    "        \n",
    "class StackBlock:\n",
    "    def __init__(self, name, components):\n",
    "        self.name = name\n",
    "        self.components = components"
   ]
  },
  {
   "cell_type": "code",
   "execution_count": null,
   "id": "901d4dac",
   "metadata": {},
   "outputs": [],
   "source": []
  },
  {
   "cell_type": "code",
   "execution_count": 30,
   "id": "8b028809",
   "metadata": {},
   "outputs": [],
   "source": [
    "block_a = Block(name='A')\n",
    "block_b = Block(name='B')\n"
   ]
  },
  {
   "cell_type": "code",
   "execution_count": 31,
   "id": "fd049f49",
   "metadata": {},
   "outputs": [
    {
     "name": "stdout",
     "output_type": "stream",
     "text": [
      "X0[A]\n"
     ]
    }
   ],
   "source": [
    "i = 0\n",
    "g, i = block_a.render(i)\n",
    "print(g)"
   ]
  },
  {
   "cell_type": "markdown",
   "id": "adaf412c",
   "metadata": {},
   "source": [
    "```mermaid\n",
    "graph LR\n",
    "A[JSON Object \\n\\n Each spec has a repo for tracking changes \\n Must conform to the json specification \\n Defines all aspects of the spec including blocks, spaces and actions] -->B[MSML Object \\n\\n JSON file and parsed, with validations and mappings along the way \\n Can show different views on the fly]\n",
    "    B --> C[Report Outputs \\n\\n Automatically build reports for the full spec or subviews \\n Example: all blocks with an effect on variable XYZ]\n",
    "\n",
    "```"
   ]
  },
  {
   "cell_type": "code",
   "execution_count": 19,
   "id": "bbe51398",
   "metadata": {},
   "outputs": [
    {
     "data": {
      "text/plain": [
       "'```mermaid\\ngraph LR\\nA[JSON Object \\n\\n Each spec has a repo for tracking changes \\n Must conform to the json specification \\n Defines all aspects of the spec including blocks, spaces and actions] -->B[MSML Object \\n\\n JSON file and parsed, with validations and mappings along the way \\n Can show different views on the fly]\\n    B --> C[Report Outputs \\n\\n Automatically build reports for the full spec or subviews \\n Example: all blocks with an effect on variable XYZ]\\n\\n```'"
      ]
     },
     "metadata": {},
     "output_type": "display_data"
    }
   ],
   "source": [
    "from IPython.display import display\n",
    "\n",
    "display(\"\"\"```mermaid\n",
    "graph LR\n",
    "A[JSON Object \\n\\n Each spec has a repo for tracking changes \\n Must conform to the json specification \\n Defines all aspects of the spec including blocks, spaces and actions] -->B[MSML Object \\n\\n JSON file and parsed, with validations and mappings along the way \\n Can show different views on the fly]\n",
    "    B --> C[Report Outputs \\n\\n Automatically build reports for the full spec or subviews \\n Example: all blocks with an effect on variable XYZ]\n",
    "\n",
    "```\"\"\")"
   ]
  },
  {
   "cell_type": "code",
   "execution_count": 16,
   "id": "6f72d18a",
   "metadata": {},
   "outputs": [],
   "source": [
    "simulation_block = StackBlock('Simulation', [block_a, block_b])"
   ]
  },
  {
   "cell_type": "code",
   "execution_count": null,
   "id": "197585a1",
   "metadata": {},
   "outputs": [],
   "source": []
  }
 ],
 "metadata": {
  "kernelspec": {
   "display_name": "Python 3 (ipykernel)",
   "language": "python",
   "name": "python3"
  },
  "language_info": {
   "codemirror_mode": {
    "name": "ipython",
    "version": 3
   },
   "file_extension": ".py",
   "mimetype": "text/x-python",
   "name": "python",
   "nbconvert_exporter": "python",
   "pygments_lexer": "ipython3",
   "version": "3.9.12"
  }
 },
 "nbformat": 4,
 "nbformat_minor": 5
}
