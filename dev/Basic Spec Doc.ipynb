{
 "cells": [
  {
   "cell_type": "code",
   "execution_count": 3,
   "id": "dd55ebbd",
   "metadata": {},
   "outputs": [],
   "source": [
    "import json\n",
    "\n",
    "with open(\"../src/schema.schema.json\", \"r\") as f:\n",
    "    f = f.read()\n",
    "f = f.replace(\"./schema.schema.json/\", \"\")\n",
    "schema = json.loads(f)"
   ]
  },
  {
   "cell_type": "code",
   "execution_count": 8,
   "id": "72fe7050",
   "metadata": {},
   "outputs": [
    {
     "data": {
      "text/plain": [
       "dict_keys(['Policies', 'Spaces', 'State', 'Stateful Metrics', 'Parameters', 'Mechanisms', 'Entities', 'Boundary Actions', 'Control Actions', 'Wiring', 'Types', 'Metrics', 'Displays'])"
      ]
     },
     "execution_count": 8,
     "metadata": {},
     "output_type": "execute_result"
    }
   ],
   "source": [
    "schema['definitions']['MSMLSpec']['properties'].keys()"
   ]
  },
  {
   "cell_type": "code",
   "execution_count": 37,
   "id": "a27b810f",
   "metadata": {},
   "outputs": [
    {
     "data": {
      "text/plain": [
       "('Stateful Metrics',\n",
       " 'Parameters',\n",
       " 'Mechanisms',\n",
       " 'Entities',\n",
       " 'Boundary Actions',\n",
       " 'Control Actions',\n",
       " 'Wiring',\n",
       " 'Types',\n",
       " 'Metrics',\n",
       " 'Displays')"
      ]
     },
     "execution_count": 37,
     "metadata": {},
     "output_type": "execute_result"
    }
   ],
   "source": [
    "'Stateful Metrics', 'Parameters', 'Mechanisms', 'Entities', 'Boundary Actions', 'Control Actions', 'Wiring', 'Types', 'Metrics', 'Displays'"
   ]
  },
  {
   "cell_type": "code",
   "execution_count": 27,
   "id": "b2daedbe",
   "metadata": {},
   "outputs": [
    {
     "data": {
      "text/plain": [
       "'A definition of the policies that handle all logical things. This could be, for example, a policy which determines what price is paid given a boundary action of someone putting in a market buy order for a stock.'"
      ]
     },
     "execution_count": 27,
     "metadata": {},
     "output_type": "execute_result"
    }
   ],
   "source": []
  },
  {
   "cell_type": "code",
   "execution_count": 28,
   "id": "7a97f94d",
   "metadata": {},
   "outputs": [],
   "source": [
    "def write_json_description(schema, key):\n",
    "    out = \"**{}**: \".format(key)\n",
    "    \n",
    "    out += schema['definitions']['Policy']['description']\n",
    "    out += \"\\n\"\n",
    "    return out"
   ]
  },
  {
   "cell_type": "code",
   "execution_count": 35,
   "id": "526f1520",
   "metadata": {},
   "outputs": [],
   "source": [
    "indent_level = 2\n",
    "\n",
    "out = \"#{} MSML Components\".format(\"#\" * indent_level)\n",
    "out += \"\\n\\n\"\n",
    "out += \"MSML extends GDS with multiple types of blocks and other enhancements. Below are the definitions of top level components.\"\n",
    "out += \"\\n\\n\"\n",
    "\n",
    "out += \"##{} Types & Spaces\".format(\"#\" * indent_level)\n",
    "out += \"\\n\\n\"\n",
    "\n",
    "out += write_json_description(schema, \"Space\")\n",
    "\n",
    "out += \"\\n\"\n",
    "\n",
    "\n",
    "out += \"##{} Entities, States, Parameters & Metrics\".format(\"#\" * indent_level)\n",
    "out += \"\\n\\n\"\n",
    "\n",
    "out += write_json_description(schema, \"State\")\n",
    "\n",
    "\n",
    "\n",
    "out += \"\\n\"\n",
    "\n",
    "out += \"##{} Blocks & Wirings\".format(\"#\" * indent_level)\n",
    "out += \"\\n\\n\"\n",
    "\n",
    "out += write_json_description(schema, \"Policy\")\n",
    "\n",
    "out += \"\\n\""
   ]
  },
  {
   "cell_type": "code",
   "execution_count": 36,
   "id": "81338cfa",
   "metadata": {},
   "outputs": [
    {
     "name": "stdout",
     "output_type": "stream",
     "text": [
      "### MSML Components\n",
      "\n",
      "MSML extends GDS with multiple types of blocks and other enhancements. Below are the definitions of top level components.\n",
      "\n",
      "#### Types & Spaces\n",
      "\n",
      "**Space**: A definition of the policies that handle all logical things. This could be, for example, a policy which determines what price is paid given a boundary action of someone putting in a market buy order for a stock.\n",
      "\n",
      "#### Entities, States, Parameters & Metrics\n",
      "\n",
      "**State**: A definition of the policies that handle all logical things. This could be, for example, a policy which determines what price is paid given a boundary action of someone putting in a market buy order for a stock.\n",
      "\n",
      "#### Blocks & Wirings\n",
      "\n",
      "**Policy**: A definition of the policies that handle all logical things. This could be, for example, a policy which determines what price is paid given a boundary action of someone putting in a market buy order for a stock.\n",
      "\n",
      "\n"
     ]
    }
   ],
   "source": [
    "print(out)"
   ]
  },
  {
   "cell_type": "code",
   "execution_count": null,
   "id": "76dc127f",
   "metadata": {},
   "outputs": [],
   "source": []
  }
 ],
 "metadata": {
  "kernelspec": {
   "display_name": "Python 3 (ipykernel)",
   "language": "python",
   "name": "python3"
  },
  "language_info": {
   "codemirror_mode": {
    "name": "ipython",
    "version": 3
   },
   "file_extension": ".py",
   "mimetype": "text/x-python",
   "name": "python",
   "nbconvert_exporter": "python",
   "pygments_lexer": "ipython3",
   "version": "3.9.7"
  }
 },
 "nbformat": 4,
 "nbformat_minor": 5
}
