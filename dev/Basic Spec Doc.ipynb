{
 "cells": [
  {
   "cell_type": "code",
   "execution_count": 3,
   "id": "2cc97418",
   "metadata": {},
   "outputs": [],
   "source": [
    "import json\n",
    "\n",
    "with open(\"../src/schema.schema.json\", \"r\") as f:\n",
    "    f = f.read()\n",
    "f = f.replace(\"./schema.schema.json/\", \"\")\n",
    "schema = json.loads(f)"
   ]
  },
  {
   "cell_type": "code",
   "execution_count": 8,
   "id": "9733a771",
   "metadata": {},
   "outputs": [
    {
     "data": {
      "text/plain": [
       "dict_keys(['Policies', 'Spaces', 'State', 'Stateful Metrics', 'Parameters', 'Mechanisms', 'Entities', 'Boundary Actions', 'Control Actions', 'Wiring', 'Types', 'Metrics', 'Displays'])"
      ]
     },
     "execution_count": 8,
     "metadata": {},
     "output_type": "execute_result"
    }
   ],
   "source": [
    "schema['definitions']['MSMLSpec']['properties'].keys()"
   ]
  },
  {
   "cell_type": "code",
   "execution_count": 52,
   "id": "6470455d",
   "metadata": {},
   "outputs": [
    {
     "data": {
      "text/plain": [
       "('Entities',\n",
       " 'Boundary Actions',\n",
       " 'Control Actions',\n",
       " 'Wiring',\n",
       " 'Types',\n",
       " 'Metrics',\n",
       " 'Displays')"
      ]
     },
     "execution_count": 52,
     "metadata": {},
     "output_type": "execute_result"
    }
   ],
   "source": [
    "'Wiring', 'Types', 'Metrics', 'Displays'"
   ]
  },
  {
   "cell_type": "code",
   "execution_count": 38,
   "id": "5d7aab3d",
   "metadata": {},
   "outputs": [
    {
     "data": {
      "text/plain": [
       "'Stateful Metrics'"
      ]
     },
     "execution_count": 38,
     "metadata": {},
     "output_type": "execute_result"
    }
   ],
   "source": [
    "'Stateful Metrics'"
   ]
  },
  {
   "cell_type": "code",
   "execution_count": 49,
   "id": "fc6c28f2",
   "metadata": {},
   "outputs": [],
   "source": [
    "def write_json_description(schema, key, name):\n",
    "    out = \"- **{}**: \".format(name)\n",
    "    \n",
    "    out += schema['definitions'][key]['description']\n",
    "    out += \"\\n\"\n",
    "    return out"
   ]
  },
  {
   "cell_type": "code",
   "execution_count": 63,
   "id": "1e218bc9",
   "metadata": {},
   "outputs": [],
   "source": [
    "indent_level = 2\n",
    "\n",
    "out = \"#{} MSML Components\".format(\"#\" * indent_level)\n",
    "out += \"\\n\\n\"\n",
    "out += \"MSML extends GDS with multiple types of blocks and other enhancements. Below are the definitions of top level components.\"\n",
    "out += \"\\n\\n\"\n",
    "\n",
    "out += \"##{} Types & Spaces\".format(\"#\" * indent_level)\n",
    "out += \"\\n\\n\"\n",
    "\n",
    "out += write_json_description(schema, \"Type\", \"Type\")\n",
    "out += write_json_description(schema, \"Space\", \"Space\")\n",
    "\n",
    "out += \"\\n\"\n",
    "\n",
    "\n",
    "out += \"##{} Entities, States, Parameters & Metrics\".format(\"#\" * indent_level)\n",
    "out += \"\\n\\n\"\n",
    "\n",
    "out += write_json_description(schema, \"Entity\", \"Entity\")\n",
    "out += write_json_description(schema, \"State\", \"State\")\n",
    "out += write_json_description(schema, \"StatefulMetric\",\"Stateful Metric\")\n",
    "out += write_json_description(schema, \"Parameter\", \"Parameter\")\n",
    "out += write_json_description(schema, \"Metric\", \"Metric\")\n",
    "\n",
    "out += \"\\n\"\n",
    "\n",
    "out += \"##{} Blocks & Wiring\".format(\"#\" * indent_level)\n",
    "out += \"\\n\\n\"\n",
    "\n",
    "\n",
    "out += write_json_description(schema, \"BoundaryAction\", \"Boundary Action\")\n",
    "out += write_json_description(schema, \"ControlAction\", \"Control Action\")\n",
    "out += write_json_description(schema, \"Policy\", \"Policy\")\n",
    "out += write_json_description(schema, \"Mechanism\", \"Mechanism\")\n",
    "out += write_json_description(schema, \"Wiring\", \"Wiring\")\n",
    "\n",
    "out += \"\\n\""
   ]
  },
  {
   "cell_type": "code",
   "execution_count": 64,
   "id": "4479b2eb",
   "metadata": {},
   "outputs": [
    {
     "name": "stdout",
     "output_type": "stream",
     "text": [
      "### MSML Components\n",
      "\n",
      "MSML extends GDS with multiple types of blocks and other enhancements. Below are the definitions of top level components.\n",
      "\n",
      "#### Types & Spaces\n",
      "\n",
      "- **Type**: This is for defining what a type might in its most basic form. These could be single typings or compound typings. The point here is to allow for changing typing in one single place and having it flow through anywhere else. I.e. if one were to define the currency type as USD, but then the project switched to using EUR, it would just require changing currency to be EUR.\n",
      "- **Space**: Spaces are similar to types in that they define a schema for data and are used as the domain/codomain for different blocks. They can be thought of as typed dictionaries.\n",
      "\n",
      "#### Entities, States, Parameters & Metrics\n",
      "\n",
      "- **Entity**: Entities are any class of user or infrastructure that should have their own state and potentially ability to call boundary actions. Examples could be a customer or a company (for which a simulation might assume it is acting as one cohesive unit)\n",
      "- **State**: The definition of states in the system. There is one global system state and then the rest of the definitions are local states, generally for recording what entity states there are.\n",
      "- **Stateful Metric**: Variables that are not held directly in the state but can computed from the state & parameters.\n",
      "- **Parameter**: Both local and global parameter sets in the system that could be set\n",
      "- **Metric**: This component takes a variety of potential inputs and creates a metric from it. This can be used for defining out system success metrics or trying to modularize certain calculations that are needed across many other system components.\n",
      "\n",
      "#### Blocks & Wiring\n",
      "\n",
      "- **Boundary Action**: The definition of different actions that might happen outside of the system such as customers coming into a shop. Generally will be called by entities.\n",
      "- **Control Action**: The definition of actions that the system might call, such as an action to refill the stock of an item when reserves run too low or something that could get triggered from a sensor. The key differentiator from boundary actions is that there is no entity calling it and it is not done with randomness.\n",
      "- **Policy**: A definition of the policies that handle all logical things. This could be, for example, a policy which determines what price is paid given a boundary action of someone putting in a market buy order for a stock.\n",
      "- **Mechanism**: Anything that updates state in the system, usually policies will call these with the outputs of logic. The reasoning to split them out is so that if at some point you want to add a recording variable every time an account is changed or do something like have a variable listener, you can just change the mechanism responsible for it in only one place.\n",
      "- **Wiring**: A wiring is a block composed of other blocks with specific behaviors or orders of execution. For instance, there can be wirings that have blocks run one after another, passing their codomains to the next block's domain. There can also be wirings for blocks that all should run in parallel.\n",
      "\n",
      "\n"
     ]
    }
   ],
   "source": [
    "print(out)"
   ]
  },
  {
   "cell_type": "code",
   "execution_count": null,
   "id": "21ffed2f",
   "metadata": {},
   "outputs": [],
   "source": []
  }
 ],
 "metadata": {
  "kernelspec": {
   "display_name": "Python 3 (ipykernel)",
   "language": "python",
   "name": "python3"
  },
  "language_info": {
   "codemirror_mode": {
    "name": "ipython",
    "version": 3
   },
   "file_extension": ".py",
   "mimetype": "text/x-python",
   "name": "python",
   "nbconvert_exporter": "python",
   "pygments_lexer": "ipython3",
   "version": "3.9.7"
  }
 },
 "nbformat": 4,
 "nbformat_minor": 5
}
