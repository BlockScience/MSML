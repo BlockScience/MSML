{
 "cells": [
  {
   "cell_type": "code",
   "execution_count": 3,
   "id": "1b38b4ce",
   "metadata": {},
   "outputs": [],
   "source": [
    "import json\n",
    "\n",
    "with open(\"../src/schema.schema.json\", \"r\") as f:\n",
    "    f = f.read()\n",
    "f = f.replace(\"./schema.schema.json/\", \"\")\n",
    "schema = json.loads(f)"
   ]
  },
  {
   "cell_type": "code",
   "execution_count": 8,
   "id": "011a0070",
   "metadata": {},
   "outputs": [
    {
     "data": {
      "text/plain": [
       "dict_keys(['Policies', 'Spaces', 'State', 'Stateful Metrics', 'Parameters', 'Mechanisms', 'Entities', 'Boundary Actions', 'Control Actions', 'Wiring', 'Types', 'Metrics', 'Displays'])"
      ]
     },
     "execution_count": 8,
     "metadata": {},
     "output_type": "execute_result"
    }
   ],
   "source": [
    "schema['definitions']['MSMLSpec']['properties'].keys()"
   ]
  },
  {
   "cell_type": "code",
   "execution_count": 19,
   "id": "86e489f0",
   "metadata": {},
   "outputs": [],
   "source": [
    "indent_level = 2\n",
    "\n",
    "out = \"#{} MSML Components\".format(\"#\" * indent_level)\n",
    "out += \"\\n\\n\"\n",
    "out += \"MSML extends GDS with multiple types of blocks and other enhancements. Below are the definitions of top level components.\"\n",
    "out += \"\\n\\n\"\n",
    "out += \"##{} Types & Spaces\".format(\"#\" * indent_level)\n",
    "out += \"\\n\\n\"\n",
    "\n",
    "\n"
   ]
  },
  {
   "cell_type": "code",
   "execution_count": 20,
   "id": "2fab4565",
   "metadata": {},
   "outputs": [
    {
     "name": "stdout",
     "output_type": "stream",
     "text": [
      "### MSML Components\n",
      "\n",
      "MSML extends GDS with multiple types of blocks and other enhancements. Below are the definitions of top level components.\n",
      "\n",
      "#### Types & Spaces\n",
      "\n",
      "\n"
     ]
    }
   ],
   "source": [
    "print(out)"
   ]
  },
  {
   "cell_type": "code",
   "execution_count": null,
   "id": "ae0d3f29",
   "metadata": {},
   "outputs": [],
   "source": []
  }
 ],
 "metadata": {
  "kernelspec": {
   "display_name": "Python 3 (ipykernel)",
   "language": "python",
   "name": "python3"
  },
  "language_info": {
   "codemirror_mode": {
    "name": "ipython",
    "version": 3
   },
   "file_extension": ".py",
   "mimetype": "text/x-python",
   "name": "python",
   "nbconvert_exporter": "python",
   "pygments_lexer": "ipython3",
   "version": "3.9.7"
  }
 },
 "nbformat": 4,
 "nbformat_minor": 5
}
