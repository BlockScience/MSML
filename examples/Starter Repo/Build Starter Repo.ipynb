{
 "cells": [
  {
   "cell_type": "code",
   "execution_count": 1,
   "id": "8f2ca968",
   "metadata": {},
   "outputs": [
    {
     "ename": "ImportError",
     "evalue": "cannot import name 'dummy_space1' from 'src.Spaces' (/Users/seanmcowen/Dropbox/BlockScience/MSML/examples/Starter Repo/src/Spaces/__init__.py)",
     "output_type": "error",
     "traceback": [
      "\u001b[0;31m---------------------------------------------------------------------------\u001b[0m",
      "\u001b[0;31mImportError\u001b[0m                               Traceback (most recent call last)",
      "\u001b[0;32m/var/folders/y0/fwkpk2ps087b_2qxvhjstrfr0000gn/T/ipykernel_38932/3502151610.py\u001b[0m in \u001b[0;36m<module>\u001b[0;34m\u001b[0m\n\u001b[1;32m     16\u001b[0m \u001b[0;32mfrom\u001b[0m \u001b[0mIPython\u001b[0m\u001b[0;34m.\u001b[0m\u001b[0mdisplay\u001b[0m \u001b[0;32mimport\u001b[0m \u001b[0mdisplay\u001b[0m\u001b[0;34m,\u001b[0m \u001b[0mdisplay_html\u001b[0m\u001b[0;34m\u001b[0m\u001b[0;34m\u001b[0m\u001b[0m\n\u001b[1;32m     17\u001b[0m \u001b[0;32mfrom\u001b[0m \u001b[0mcopy\u001b[0m \u001b[0;32mimport\u001b[0m \u001b[0mdeepcopy\u001b[0m\u001b[0;34m\u001b[0m\u001b[0;34m\u001b[0m\u001b[0m\n\u001b[0;32m---> 18\u001b[0;31m \u001b[0;32mfrom\u001b[0m \u001b[0msrc\u001b[0m \u001b[0;32mimport\u001b[0m \u001b[0mmath_spec_json\u001b[0m\u001b[0;34m\u001b[0m\u001b[0;34m\u001b[0m\u001b[0m\n\u001b[0m\u001b[1;32m     19\u001b[0m \u001b[0mms\u001b[0m \u001b[0;34m=\u001b[0m \u001b[0mload_from_json\u001b[0m\u001b[0;34m(\u001b[0m\u001b[0mdeepcopy\u001b[0m\u001b[0;34m(\u001b[0m\u001b[0mmath_spec_json\u001b[0m\u001b[0;34m)\u001b[0m\u001b[0;34m)\u001b[0m\u001b[0;34m\u001b[0m\u001b[0;34m\u001b[0m\u001b[0m\n\u001b[1;32m     20\u001b[0m \u001b[0;34m\u001b[0m\u001b[0m\n",
      "\u001b[0;32m~/Dropbox/BlockScience/MSML/examples/Starter Repo/src/__init__.py\u001b[0m in \u001b[0;36m<module>\u001b[0;34m\u001b[0m\n\u001b[1;32m      3\u001b[0m \u001b[0;32mfrom\u001b[0m \u001b[0;34m.\u001b[0m\u001b[0mState\u001b[0m \u001b[0;32mimport\u001b[0m \u001b[0mstate\u001b[0m\u001b[0;34m\u001b[0m\u001b[0;34m\u001b[0m\u001b[0m\n\u001b[1;32m      4\u001b[0m \u001b[0;32mfrom\u001b[0m \u001b[0;34m.\u001b[0m\u001b[0mSpaces\u001b[0m \u001b[0;32mimport\u001b[0m \u001b[0mspaces\u001b[0m\u001b[0;34m\u001b[0m\u001b[0;34m\u001b[0m\u001b[0m\n\u001b[0;32m----> 5\u001b[0;31m \u001b[0;32mfrom\u001b[0m \u001b[0;34m.\u001b[0m\u001b[0mPolicies\u001b[0m \u001b[0;32mimport\u001b[0m \u001b[0mpolicies\u001b[0m\u001b[0;34m\u001b[0m\u001b[0;34m\u001b[0m\u001b[0m\n\u001b[0m\u001b[1;32m      6\u001b[0m \u001b[0;32mfrom\u001b[0m \u001b[0;34m.\u001b[0m\u001b[0mParameters\u001b[0m \u001b[0;32mimport\u001b[0m \u001b[0mparameters\u001b[0m\u001b[0;34m\u001b[0m\u001b[0;34m\u001b[0m\u001b[0m\n\u001b[1;32m      7\u001b[0m \u001b[0;32mfrom\u001b[0m \u001b[0;34m.\u001b[0m\u001b[0mMechanisms\u001b[0m \u001b[0;32mimport\u001b[0m \u001b[0mmechanism\u001b[0m\u001b[0;34m\u001b[0m\u001b[0;34m\u001b[0m\u001b[0m\n",
      "\u001b[0;32m~/Dropbox/BlockScience/MSML/examples/Starter Repo/src/Policies/__init__.py\u001b[0m in \u001b[0;36m<module>\u001b[0;34m\u001b[0m\n\u001b[0;32m----> 1\u001b[0;31m \u001b[0;32mfrom\u001b[0m \u001b[0;34m.\u001b[0m\u001b[0mDummy\u001b[0m \u001b[0;32mimport\u001b[0m \u001b[0mdummy_policy\u001b[0m\u001b[0;34m\u001b[0m\u001b[0;34m\u001b[0m\u001b[0m\n\u001b[0m\u001b[1;32m      2\u001b[0m policies = {\n\u001b[1;32m      3\u001b[0m     \u001b[0;34m\"Dummy Policy\"\u001b[0m\u001b[0;34m:\u001b[0m \u001b[0mdummy_policy\u001b[0m\u001b[0;34m\u001b[0m\u001b[0;34m\u001b[0m\u001b[0m\n\u001b[1;32m      4\u001b[0m }\n",
      "\u001b[0;32m~/Dropbox/BlockScience/MSML/examples/Starter Repo/src/Policies/Dummy.py\u001b[0m in \u001b[0;36m<module>\u001b[0;34m\u001b[0m\n\u001b[0;32m----> 1\u001b[0;31m \u001b[0;32mfrom\u001b[0m \u001b[0;34m.\u001b[0m\u001b[0;34m.\u001b[0m\u001b[0mSpaces\u001b[0m \u001b[0;32mimport\u001b[0m \u001b[0mdummy_space1\u001b[0m\u001b[0;34m,\u001b[0m \u001b[0mdummy_space2\u001b[0m\u001b[0;34m\u001b[0m\u001b[0;34m\u001b[0m\u001b[0m\n\u001b[0m\u001b[1;32m      2\u001b[0m \u001b[0;34m\u001b[0m\u001b[0m\n\u001b[1;32m      3\u001b[0m dummy_policy_option = {\n\u001b[1;32m      4\u001b[0m     \u001b[0;34m\"name\"\u001b[0m\u001b[0;34m:\u001b[0m \u001b[0;34m\"Dummy Policy V1\"\u001b[0m\u001b[0;34m,\u001b[0m\u001b[0;34m\u001b[0m\u001b[0;34m\u001b[0m\u001b[0m\n\u001b[1;32m      5\u001b[0m     \u001b[0;34m\"description\"\u001b[0m\u001b[0;34m:\u001b[0m \u001b[0;34m\"V1 Dummy Policy\"\u001b[0m\u001b[0;34m,\u001b[0m\u001b[0;34m\u001b[0m\u001b[0;34m\u001b[0m\u001b[0m\n",
      "\u001b[0;31mImportError\u001b[0m: cannot import name 'dummy_space1' from 'src.Spaces' (/Users/seanmcowen/Dropbox/BlockScience/MSML/examples/Starter Repo/src/Spaces/__init__.py)"
     ]
    }
   ],
   "source": [
    "import os\n",
    "\n",
    "os.chdir(\"../..\")\n",
    "\n",
    "#folder = \"examples/Starter Repo\"\n",
    "#assert \"src\" not in os.listdir(folder), \"src folder is already created, delete first\"\n",
    "#folder = folder + \"/src\"\n",
    "#os.makedirs(folder)\n",
    "\n",
    "os.chdir(\"..\")\n",
    "\n",
    "from MSML.src import (load_from_json, create_action_chains_graph, write_out_boundary_actions,\n",
    "                      write_out_policies, write_out_mechanisms, load_svg_graphviz, write_basic_report_full,\n",
    "                      write_action_chain_reports, write_spec_tree, create_parameter_impact_table,\n",
    "                     write_entity_reports)\n",
    "from IPython.display import display, display_html\n",
    "from copy import deepcopy\n",
    "from src import math_spec_json\n",
    "ms = load_from_json(deepcopy(math_spec_json))\n",
    "\n",
    "for behavior in [\"Dummy Boundary Action\", \"Dummy Control Action\"]:\n",
    "    display(create_action_chains_graph(ms, [behavior], behavior))\n",
    "\n",
    "write_basic_report_full(ms, \"MSML/examples/Starter Repo/reports\", \"Basic Report\")\n",
    "\n",
    "write_action_chain_reports(ms, \"MSML/examples/Starter Repo/reports\", [\"Dummy Boundary Action\", \"Dummy Control Action\"])\n",
    "write_entity_reports(ms, \"MSML/examples/Starter Repo/reports\", [\"Dummy\"])"
   ]
  },
  {
   "cell_type": "code",
   "execution_count": 2,
   "id": "771fa30a",
   "metadata": {},
   "outputs": [
    {
     "name": "stdout",
     "output_type": "stream",
     "text": [
      "├──Entities\n",
      "│   ├──Dummy\n",
      "├──State\n",
      "│   ├──Dummy\n",
      "│   │   ├──Variable A\n",
      "│   │   ├──Variable B\n",
      "│   │   ├──Variable C\n",
      "├──Stateful Metrics\n",
      "│   ├──Dummy Stateful Metrics\n",
      "│   │   ├──dummy_metric\n",
      "├──Spaces\n",
      "│   ├──Dummy Space 1\n",
      "│   ├──Dummy Space 2\n",
      "├──Parameters\n",
      "│   ├──Dummy\n",
      "│   │   ├──dummy_parameter\n",
      "├──Boundary Actions\n",
      "│   ├──Dummy Boundary Action\n",
      "├──Control Actions\n",
      "│   ├──Dummy Control Action\n",
      "├──Policies\n",
      "│   ├──Dummy Policy\n",
      "├──Mechanisms\n",
      "│   ├──Dummy Mechanism\n",
      "\n"
     ]
    }
   ],
   "source": [
    "print(write_spec_tree(ms))"
   ]
  },
  {
   "cell_type": "code",
   "execution_count": 3,
   "id": "355b66bd",
   "metadata": {},
   "outputs": [
    {
     "name": "stdout",
     "output_type": "stream",
     "text": [
      "                Boundary Actions Control Actions Mechanisms        Policies\n",
      "dummy_parameter               []              []         []  [Dummy Policy]\n",
      "\n",
      "                Boundary Actions Control Actions Entities Mechanisms  \\\n",
      "dummy_parameter               []              []       []         []   \n",
      "\n",
      "                       Policies  \n",
      "dummy_parameter  [Dummy Policy]  \n",
      "\n",
      "Dummy Policy    [dummy_parameter]\n",
      "dtype: object\n",
      "\n",
      "Dummy Policy    [dummy_parameter]\n",
      "dtype: object\n"
     ]
    }
   ],
   "source": [
    "print(create_parameter_impact_table(ms.param_links, orientation=\"Parameters\"))\n",
    "print()\n",
    "print(create_parameter_impact_table(ms.param_links_exploded, orientation=\"Parameters\"))\n",
    "print()\n",
    "print(create_parameter_impact_table(ms.param_links, orientation=\"Blocks\"))\n",
    "print()\n",
    "print(create_parameter_impact_table(ms.param_links_exploded, orientation=\"Blocks\"))"
   ]
  },
  {
   "cell_type": "code",
   "execution_count": null,
   "id": "a898e31e",
   "metadata": {},
   "outputs": [],
   "source": []
  }
 ],
 "metadata": {
  "kernelspec": {
   "display_name": "Python 3 (ipykernel)",
   "language": "python",
   "name": "python3"
  },
  "language_info": {
   "codemirror_mode": {
    "name": "ipython",
    "version": 3
   },
   "file_extension": ".py",
   "mimetype": "text/x-python",
   "name": "python",
   "nbconvert_exporter": "python",
   "pygments_lexer": "ipython3",
   "version": "3.9.12"
  }
 },
 "nbformat": 4,
 "nbformat_minor": 5
}
