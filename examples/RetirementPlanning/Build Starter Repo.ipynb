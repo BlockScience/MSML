{
 "cells": [
  {
   "cell_type": "code",
   "execution_count": 1,
   "id": "8f2ca968",
   "metadata": {},
   "outputs": [],
   "source": [
    "\"\"\"# For the production library\n",
    "from math_spec_mapping import (load_from_json, write_all_markdown_reports, write_spec_tree)\"\"\"\n",
    "\n",
    "# Development library loading\n",
    "import sys\n",
    "sys.path.append(\"/Users/seanmcowen/Dropbox/BlockScience\")\n",
    "from MSML.src.math_spec_mapping import (load_from_json, write_all_markdown_reports, write_spec_tree)\n",
    "\n",
    "from src import math_spec_json\n",
    "from copy import deepcopy\n",
    "ms = load_from_json(deepcopy(math_spec_json))\n",
    "\n",
    "d = \"reports/Markdown\"\n",
    "write_all_markdown_reports(ms, d, clear_folders=True)\n",
    "write_spec_tree(ms, path=d, linking=True)"
   ]
  },
  {
   "cell_type": "code",
   "execution_count": 3,
   "id": "874c83f5",
   "metadata": {},
   "outputs": [
    {
     "data": {
      "text/plain": [
       "{'Dummy Stateful Metrics': <MSML.src.math_spec_mapping.Classes.StatefulMetric.StatefulMetricSet at 0x7fd3d107c760>,\n",
       " 'Investment Stateful Metrics': <MSML.src.math_spec_mapping.Classes.StatefulMetric.StatefulMetricSet at 0x7fd3d107cd90>}"
      ]
     },
     "execution_count": 3,
     "metadata": {},
     "output_type": "execute_result"
    }
   ],
   "source": [
    "ms.stateful_metrics"
   ]
  },
  {
   "cell_type": "code",
   "execution_count": 5,
   "id": "2239c7b9",
   "metadata": {},
   "outputs": [
    {
     "data": {
      "text/plain": [
       "[{'name': 'Dummy Stateful Metrics',\n",
       "  'notes': '',\n",
       "  'metrics': [{'type': 'Dummy Type 2',\n",
       "    'name': 'dummy_metric',\n",
       "    'description': 'Dummy Dummy',\n",
       "    'variables_used': [('Dummy State', 'Variable A')],\n",
       "    'parameters_used': [],\n",
       "    'symbol': None,\n",
       "    'domain': None}]},\n",
       " {'name': 'Investment Stateful Metrics',\n",
       "  'notes': 'Stateful metrics related to investments',\n",
       "  'metrics': [{'type': 'USD Type',\n",
       "    'name': 'portfolio_value',\n",
       "    'description': 'The total portfolio value as measured by the shares a person has times their prices, and then summed.',\n",
       "    'variables_used': [('Global State', 'Stock Price'),\n",
       "     ('Global State', 'Bond Price'),\n",
       "     ('Person State', 'Stock Shares'),\n",
       "     ('Person State', 'Bond Shares')],\n",
       "    'parameters_used': [],\n",
       "    'symbol': '$V$',\n",
       "    'domain': '$\\\\mathbb{R}_{>=0}$'}]}]"
      ]
     },
     "execution_count": 5,
     "metadata": {},
     "output_type": "execute_result"
    }
   ],
   "source": [
    "math_spec_json['Stateful Metrics']"
   ]
  },
  {
   "cell_type": "code",
   "execution_count": null,
   "id": "501873ab",
   "metadata": {},
   "outputs": [],
   "source": []
  }
 ],
 "metadata": {
  "kernelspec": {
   "display_name": "Python 3 (ipykernel)",
   "language": "python",
   "name": "python3"
  },
  "language_info": {
   "codemirror_mode": {
    "name": "ipython",
    "version": 3
   },
   "file_extension": ".py",
   "mimetype": "text/x-python",
   "name": "python",
   "nbconvert_exporter": "python",
   "pygments_lexer": "ipython3",
   "version": "3.9.12"
  }
 },
 "nbformat": 4,
 "nbformat_minor": 5
}
