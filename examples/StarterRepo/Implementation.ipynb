{
 "cells": [
  {
   "cell_type": "code",
   "execution_count": 1,
   "metadata": {},
   "outputs": [
    {
     "name": "stdout",
     "output_type": "stream",
     "text": [
      "No python implementation for dummy_metric. To fix this, go to Implementations/Python/StatefulMetrics and add dummy_metric\n"
     ]
    }
   ],
   "source": [
    "import os\n",
    "\n",
    "os.chdir(\"../..\")\n",
    "os.chdir(\"..\")\n",
    "\n",
    "from MSML.src.math_spec_mapping import (load_from_json, create_action_chains_graph, write_out_boundary_actions,\n",
    "                      write_out_policies, write_out_mechanisms, load_svg_graphviz, write_basic_report_full,\n",
    "                      write_action_chain_reports, write_spec_tree, create_parameter_impact_table,\n",
    "                     write_entity_reports, write_wiring_report, write_entity_markdown_report,\n",
    "                     write_all_markdown_reports)\n",
    "from IPython.display import display, display_html\n",
    "from copy import deepcopy\n",
    "from src import math_spec_json\n",
    "os.chdir(\"MSML/examples/StarterRepo\")\n",
    "ms = load_from_json(deepcopy(math_spec_json))\n",
    "\n",
    "state_base = {\"Dummy\": {\"Words\": [],\n",
    "                   \"Total Length\": 0}}\n",
    "params_base = {'FP Dummy Boundary Action 2': \"V2 Dummy Boundary Action 2 Option\",\n",
    "          \"FP Dummy Control Action\": \"V2 Dummy Control\",\n",
    "          'DUMMY D Probability': .5,\n",
    "          'DUMMY Length Multiplier': 2}\n",
    "\n",
    "msi = ms.build_implementation(params_base)\n",
    "msi.validate_state_and_params(state_base, params_base)"
   ]
  },
  {
   "cell_type": "code",
   "execution_count": 2,
   "metadata": {},
   "outputs": [
    {
     "name": "stdout",
     "output_type": "stream",
     "text": [
      "[{'a': 'C'}]\n",
      "[{'a': 'C', 'b': ['C'], 'c': 2}]\n",
      "{'Dummy': {'Words': ['C'], 'Total Length': 2}}\n"
     ]
    }
   ],
   "source": [
    "state = deepcopy(state_base)\n",
    "params = deepcopy(params_base)\n",
    "\n",
    "spaces = msi.boundary_actions['Dummy Boundary Action'](state, params,[])\n",
    "print(spaces)\n",
    "spaces = msi.policies[\"DUMMY Letter Count Policy\"](state, params,spaces)\n",
    "print(spaces)\n",
    "msi.mechanisms[\"DUMMY Log Results Mechanism\"](state, params,spaces)\n",
    "print(state)"
   ]
  },
  {
   "cell_type": "code",
   "execution_count": 3,
   "metadata": {},
   "outputs": [
    {
     "name": "stdout",
     "output_type": "stream",
     "text": [
      "[{'a': 'F'}]\n",
      "[{'a': 'F', 'b': ['F'], 'c': 2}]\n",
      "{'Dummy': {'Words': ['F'], 'Total Length': 2}}\n"
     ]
    }
   ],
   "source": [
    "state = deepcopy(state_base)\n",
    "params = deepcopy(params_base)\n",
    "\n",
    "spaces = msi.control_actions['Dummy Control Action'](state, params,[])\n",
    "print(spaces)\n",
    "spaces = msi.policies[\"DUMMY Letter Count Policy\"](state, params,spaces)\n",
    "print(spaces)\n",
    "msi.mechanisms[\"DUMMY Log Results Mechanism\"](state, params,spaces)\n",
    "print(state)"
   ]
  },
  {
   "cell_type": "code",
   "execution_count": 4,
   "metadata": {},
   "outputs": [
    {
     "name": "stdout",
     "output_type": "stream",
     "text": [
      "[{'a': 'BC'}]\n",
      "[{'a': 'BC', 'b': ['C', 'B'], 'c': 4}]\n",
      "{'Dummy': {'Words': ['BC'], 'Total Length': 4}}\n"
     ]
    }
   ],
   "source": [
    "state = deepcopy(state_base)\n",
    "params = deepcopy(params_base)\n",
    "\n",
    "spaces = msi.boundary_actions['Dummy Boundary Action 2'](state, params,[])\n",
    "print(spaces)\n",
    "spaces = msi.policies[\"DUMMY Letter Count Policy\"](state, params,spaces)\n",
    "print(spaces)\n",
    "msi.mechanisms[\"DUMMY Log Results Mechanism\"](state, params,spaces)\n",
    "print(state)"
   ]
  },
  {
   "cell_type": "code",
   "execution_count": 9,
   "metadata": {},
   "outputs": [
    {
     "name": "stdout",
     "output_type": "stream",
     "text": [
      "{'Dummy': {'Words': ['A'], 'Total Length': 2}}\n",
      "{'Dummy': {'Words': ['A', 'F'], 'Total Length': 4}}\n",
      "{'Dummy': {'Words': ['A', 'F', 'AC'], 'Total Length': 8}}\n"
     ]
    }
   ],
   "source": [
    "state = deepcopy(state_base)\n",
    "params = deepcopy(params_base)\n",
    "\n",
    "msi.wiring[\"Dummy Boundary Wiring\"](state, params,spaces)\n",
    "print(state)\n",
    "msi.wiring[\"Dummy Control Wiring\"](state, params,spaces)\n",
    "print(state)\n",
    "msi.wiring[\"Dummy Boundary Wiring 2\"](state, params,spaces)\n",
    "print(state)"
   ]
  },
  {
   "cell_type": "code",
   "execution_count": null,
   "metadata": {},
   "outputs": [],
   "source": []
  }
 ],
 "metadata": {
  "kernelspec": {
   "display_name": "BlockScience",
   "language": "python",
   "name": "python3"
  },
  "language_info": {
   "codemirror_mode": {
    "name": "ipython",
    "version": 3
   },
   "file_extension": ".py",
   "mimetype": "text/x-python",
   "name": "python",
   "nbconvert_exporter": "python",
   "pygments_lexer": "ipython3",
   "version": "3.9.12"
  }
 },
 "nbformat": 4,
 "nbformat_minor": 2
}
