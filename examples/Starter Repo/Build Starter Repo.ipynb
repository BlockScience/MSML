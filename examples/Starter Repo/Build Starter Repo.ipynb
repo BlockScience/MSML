{
 "cells": [
  {
   "cell_type": "code",
   "execution_count": 1,
   "id": "d6b89e91",
   "metadata": {},
   "outputs": [],
   "source": [
    "import os\n",
    "\n",
    "os.chdir(\"../..\")"
   ]
  },
  {
   "cell_type": "code",
   "execution_count": 2,
   "id": "d4112099",
   "metadata": {},
   "outputs": [],
   "source": [
    "folder = \"examples/Starter Repo\""
   ]
  },
  {
   "cell_type": "code",
   "execution_count": 3,
   "id": "c0ec3904",
   "metadata": {},
   "outputs": [],
   "source": [
    "assert \"src\" not in os.listdir(folder), \"src folder is already created, delete first\"\n",
    "folder = folder + \"/src\""
   ]
  },
  {
   "cell_type": "code",
   "execution_count": 6,
   "id": "766b2300",
   "metadata": {},
   "outputs": [],
   "source": [
    "os.makedirs(folder)"
   ]
  },
  {
   "cell_type": "code",
   "execution_count": null,
   "id": "910c8482",
   "metadata": {},
   "outputs": [],
   "source": []
  }
 ],
 "metadata": {
  "kernelspec": {
   "display_name": "Python 3 (ipykernel)",
   "language": "python",
   "name": "python3"
  },
  "language_info": {
   "codemirror_mode": {
    "name": "ipython",
    "version": 3
   },
   "file_extension": ".py",
   "mimetype": "text/x-python",
   "name": "python",
   "nbconvert_exporter": "python",
   "pygments_lexer": "ipython3",
   "version": "3.9.12"
  }
 },
 "nbformat": 4,
 "nbformat_minor": 5
}
