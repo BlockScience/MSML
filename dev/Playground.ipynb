{
 "cells": [
  {
   "cell_type": "code",
   "execution_count": 1,
   "id": "3e2dcdae",
   "metadata": {},
   "outputs": [
    {
     "name": "stderr",
     "output_type": "stream",
     "text": [
      "/Users/seanmcowen/opt/anaconda3/lib/python3.9/site-packages/pandas/core/computation/expressions.py:21: UserWarning: Pandas requires version '2.8.4' or newer of 'numexpr' (version '2.7.3' currently installed).\n",
      "  from pandas.core.computation.check import NUMEXPR_INSTALLED\n",
      "/Users/seanmcowen/opt/anaconda3/lib/python3.9/site-packages/pandas/core/arrays/masked.py:60: UserWarning: Pandas requires version '1.3.6' or newer of 'bottleneck' (version '1.3.2' currently installed).\n",
      "  from pandas.core import (\n"
     ]
    }
   ],
   "source": [
    "import os\n",
    "\n",
    "os.chdir(\"..\")"
   ]
  },
  {
   "cell_type": "code",
   "execution_count": 2,
   "id": "dc7bca6c",
   "metadata": {},
   "outputs": [],
   "source": [
    "import json"
   ]
  },
  {
   "cell_type": "code",
   "execution_count": 6,
   "id": "47b43671",
   "metadata": {},
   "outputs": [
    {
     "data": {
      "text/plain": [
       "'{\"name\": \"Dummy Stateful Metrics\", \"notes\": \"s\", \"metrics\": [{\"type\": \"Dummy Type 2\", \"name\": \"dummy_metric\", \"description\": \"Dummy Dummy\", \"variables_used\": [[\"Dummy State\", \"Variable A\"]], \"parameters_used\": [\"A\"], \"symbol\": \"s\", \"domain\": \"s\"}]}'"
      ]
     },
     "execution_count": 6,
     "metadata": {},
     "output_type": "execute_result"
    }
   ],
   "source": [
    "json.dumps({\n",
    "    \"name\": \"Dummy Stateful Metrics\",\n",
    "    \"notes\": \"s\",\n",
    "    \"metrics\": [\n",
    "        {\n",
    "            \"type\": \"Dummy Type 2\",\n",
    "            \"name\": \"dummy_metric\",\n",
    "            \"description\": \"Dummy Dummy\",\n",
    "            \"variables_used\": [(\"Dummy State\", \"Variable A\")],\n",
    "            \"parameters_used\": [\"A\"],\n",
    "            \"symbol\": \"s\",\n",
    "            \"domain\": \"s\",\n",
    "        }\n",
    "    ],\n",
    "})"
   ]
  },
  {
   "cell_type": "code",
   "execution_count": null,
   "id": "d4380791",
   "metadata": {},
   "outputs": [],
   "source": []
  }
 ],
 "metadata": {
  "kernelspec": {
   "display_name": "Python 3 (ipykernel)",
   "language": "python",
   "name": "python3"
  },
  "language_info": {
   "codemirror_mode": {
    "name": "ipython",
    "version": 3
   },
   "file_extension": ".py",
   "mimetype": "text/x-python",
   "name": "python",
   "nbconvert_exporter": "python",
   "pygments_lexer": "ipython3",
   "version": "3.9.7"
  }
 },
 "nbformat": 4,
 "nbformat_minor": 5
}
