{
 "cells": [
  {
   "cell_type": "code",
   "execution_count": 1,
   "id": "8f2ca968",
   "metadata": {},
   "outputs": [
    {
     "data": {
      "text/plain": [
       "'\\nfor behavior in [\"Dummy Boundary Action\", \"Dummy Control Action\"]:\\n    display(create_action_chains_graph(ms, [behavior], behavior))\\n\\nwrite_basic_report_full(ms, \"MSML/examples/Starter Repo/reports\", \"Basic Report\")\\n\\nwrite_action_chain_reports(ms, \"MSML/examples/Starter Repo/reports\", [\"Dummy Boundary Action\", \"Dummy Control Action\"])'"
      ]
     },
     "execution_count": 1,
     "metadata": {},
     "output_type": "execute_result"
    }
   ],
   "source": [
    "import os\n",
    "\n",
    "os.chdir(\"../..\")\n",
    "\n",
    "#folder = \"examples/Starter Repo\"\n",
    "#assert \"src\" not in os.listdir(folder), \"src folder is already created, delete first\"\n",
    "#folder = folder + \"/src\"\n",
    "#os.makedirs(folder)\n",
    "\n",
    "os.chdir(\"..\")\n",
    "\n",
    "from MSML.src import load_from_json, create_action_chains_graph, write_out_boundary_actions, write_out_policies, write_out_mechanisms, load_svg_graphviz, write_basic_report_full, write_action_chain_reports, write_spec_tree\n",
    "from IPython.display import display, display_html\n",
    "from copy import deepcopy\n",
    "from src import math_spec_json\n",
    "ms = load_from_json(deepcopy(math_spec_json))\n",
    "\n",
    "\"\"\"\n",
    "for behavior in [\"Dummy Boundary Action\", \"Dummy Control Action\"]:\n",
    "    display(create_action_chains_graph(ms, [behavior], behavior))\n",
    "\n",
    "write_basic_report_full(ms, \"MSML/examples/Starter Repo/reports\", \"Basic Report\")\n",
    "\n",
    "write_action_chain_reports(ms, \"MSML/examples/Starter Repo/reports\", [\"Dummy Boundary Action\", \"Dummy Control Action\"])\"\"\""
   ]
  },
  {
   "cell_type": "code",
   "execution_count": 2,
   "id": "771fa30a",
   "metadata": {},
   "outputs": [
    {
     "name": "stdout",
     "output_type": "stream",
     "text": [
      "├──Entities\n",
      "│   ├──Dummy\n",
      "├──State\n",
      "│   ├──Dummy\n",
      "│   │   ├──Variable A\n",
      "│   │   ├──Variable B\n",
      "│   │   ├──Variable C\n",
      "├──Spaces\n",
      "│   ├──Dummy Space 1\n",
      "│   ├──Dummy Space 2\n",
      "├──Parameters\n",
      "│   ├──Dummy\n",
      "│   │   ├──dummy_parameter\n",
      "├──Boundary Actions\n",
      "│   ├──Dummy Boundary Action\n",
      "├──Control Actions\n",
      "│   ├──Dummy Control Action\n",
      "├──Policies\n",
      "│   ├──Dummy Policy\n",
      "├──Mechanisms\n",
      "│   ├──Dummy Mechanism\n",
      "\n"
     ]
    }
   ],
   "source": [
    "print(write_spec_tree(ms))"
   ]
  },
  {
   "cell_type": "code",
   "execution_count": 3,
   "id": "9f0d6d98",
   "metadata": {},
   "outputs": [
    {
     "data": {
      "text/plain": [
       "{'dummy_parameter': {'Boundary Actions': [<MSML.src.Classes.BoundaryAction.BoundaryAction at 0x7fd018020ac0>],\n",
       "  'Control Actions': [<MSML.src.Classes.ControlAction.ControlAction at 0x7fd018020b50>],\n",
       "  'Policies': [<MSML.src.Classes.Policy.Policy at 0x7fd01804bd00>],\n",
       "  'Mechanisms': [<MSML.src.Classes.Mechanism.Mechanism at 0x7fd0180208b0>],\n",
       "  'Entities': [<Dummy Entity>]}}"
      ]
     },
     "execution_count": 3,
     "metadata": {},
     "output_type": "execute_result"
    }
   ],
   "source": [
    "ms.param_links_exploded"
   ]
  },
  {
   "cell_type": "code",
   "execution_count": 4,
   "id": "c312556e",
   "metadata": {},
   "outputs": [],
   "source": [
    "from MSML.src.Classes import Mechanism, Policy, BoundaryAction, ControlAction"
   ]
  },
  {
   "cell_type": "code",
   "execution_count": 10,
   "id": "f5d2fe30",
   "metadata": {},
   "outputs": [],
   "source": []
  },
  {
   "cell_type": "code",
   "execution_count": 11,
   "id": "9854565f",
   "metadata": {},
   "outputs": [
    {
     "data": {
      "text/plain": [
       "{'dummy_parameter': {'Boundary Actions': [<MSML.src.Classes.BoundaryAction.BoundaryAction at 0x7fa6b8959370>],\n",
       "  'Control Actions': [<MSML.src.Classes.ControlAction.ControlAction at 0x7fa6b8959550>],\n",
       "  'Policies': [<MSML.src.Classes.Policy.Policy at 0x7fa6b8930bb0>],\n",
       "  'Mechanisms': [<MSML.src.Classes.Mechanism.Mechanism at 0x7fa6b8959d30>],\n",
       "  'Entities': [<Dummy Entity>]}}"
      ]
     },
     "execution_count": 11,
     "metadata": {},
     "output_type": "execute_result"
    }
   ],
   "source": [
    "param_links_exploded"
   ]
  },
  {
   "cell_type": "code",
   "execution_count": null,
   "id": "cf324b4c",
   "metadata": {},
   "outputs": [],
   "source": []
  },
  {
   "cell_type": "code",
   "execution_count": 22,
   "id": "f6c61150",
   "metadata": {},
   "outputs": [
    {
     "name": "stdout",
     "output_type": "stream",
     "text": [
      "A\n",
      "<MSML.src.Classes.ControlAction.ControlAction object at 0x7fecd1889520>\n"
     ]
    }
   ],
   "source": []
  },
  {
   "cell_type": "code",
   "execution_count": 5,
   "id": "c6168ee6",
   "metadata": {},
   "outputs": [],
   "source": [
    "# Add in param_links_exploded which has all actions linked\n",
    "\n",
    "# Add a way to display in a grid the parameters, then the columns as the four groups, and the specific ones that fill it in each\n",
    "\n",
    "# Add functionality to highlight the most important enties, boundaries, etc"
   ]
  },
  {
   "cell_type": "code",
   "execution_count": 14,
   "id": "88157c2b",
   "metadata": {},
   "outputs": [],
   "source": []
  },
  {
   "cell_type": "code",
   "execution_count": 15,
   "id": "46af6f63",
   "metadata": {},
   "outputs": [
    {
     "data": {
      "text/plain": [
       "{'dummy_parameter': {'Boundary Actions': [],\n",
       "  'Control Actions': [],\n",
       "  'Policies': [<MSML.src.Classes.ControlAction.ControlAction at 0x7fc0b8550310>],\n",
       "  'Mechanisms': []}}"
      ]
     },
     "execution_count": 15,
     "metadata": {},
     "output_type": "execute_result"
    }
   ],
   "source": [
    "param_links"
   ]
  },
  {
   "cell_type": "code",
   "execution_count": null,
   "id": "bc72ee93",
   "metadata": {},
   "outputs": [],
   "source": []
  }
 ],
 "metadata": {
  "kernelspec": {
   "display_name": "Python 3 (ipykernel)",
   "language": "python",
   "name": "python3"
  },
  "language_info": {
   "codemirror_mode": {
    "name": "ipython",
    "version": 3
   },
   "file_extension": ".py",
   "mimetype": "text/x-python",
   "name": "python",
   "nbconvert_exporter": "python",
   "pygments_lexer": "ipython3",
   "version": "3.9.12"
  }
 },
 "nbformat": 4,
 "nbformat_minor": 5
}
