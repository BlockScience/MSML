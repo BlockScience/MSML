{
 "cells": [
  {
   "cell_type": "code",
   "execution_count": 1,
   "id": "8f2ca968",
   "metadata": {},
   "outputs": [
    {
     "name": "stderr",
     "output_type": "stream",
     "text": [
      "/Users/seanmcowen/opt/anaconda3/lib/python3.9/site-packages/pandas/core/computation/expressions.py:21: UserWarning: Pandas requires version '2.8.4' or newer of 'numexpr' (version '2.7.3' currently installed).\n",
      "  from pandas.core.computation.check import NUMEXPR_INSTALLED\n",
      "/Users/seanmcowen/opt/anaconda3/lib/python3.9/site-packages/pandas/core/arrays/masked.py:60: UserWarning: Pandas requires version '1.3.6' or newer of 'bottleneck' (version '1.3.2' currently installed).\n",
      "  from pandas.core import (\n"
     ]
    },
    {
     "data": {
      "text/plain": [
       "'├──**Entities**\\n│   ├──[[Dummy]]\\n│   ├──[[Global]]\\n├──**State**\\n│   ├──[[Dummy State]]\\n│   │   ├──Variable A\\n│   │   ├──Variable B\\n│   │   ├──Variable C\\n│   ├──[[Global State]]\\n├──**Stateful Metrics**\\n│   ├──Dummy Stateful Metrics\\n│   │   ├──[[dummy_metric]]\\n├──**Types**\\n│   ├──[[Dummy Type 1]]\\n│   ├──[[Dummy Type 2]]\\n│   ├──[[Dummy Compound Type]]\\n├──**Spaces**\\n│   ├──[[Terminating Space]]\\n│   ├──[[Empty Space]]\\n│   ├──[[Dummy Space 1]]\\n│   ├──[[Dummy Space 2]]\\n├──**Parameters**\\n│   ├──Dummy Parameter Set\\n│   │   ├──[[dummy_parameter]]\\n│   │   ├──[[dummy_parameter2]]\\n├──**Boundary Actions**\\n│   ├──[[Dummy Boundary Action]]\\n├──**Control Actions**\\n│   ├──[[Dummy Control Action]]\\n├──**Policies**\\n│   ├──[[Dummy Policy]]\\n├──**Mechanisms**\\n│   ├──[[Dummy Mechanism]]\\n'"
      ]
     },
     "execution_count": 1,
     "metadata": {},
     "output_type": "execute_result"
    }
   ],
   "source": [
    "import os\n",
    "\n",
    "os.chdir(\"../..\")\n",
    "\n",
    "#folder = \"examples/Starter Repo\"\n",
    "#assert \"src\" not in os.listdir(folder), \"src folder is already created, delete first\"\n",
    "#folder = folder + \"/src\"\n",
    "#os.makedirs(folder)\n",
    "\n",
    "os.chdir(\"..\")\n",
    "\n",
    "from MSML.src import (load_from_json, create_action_chains_graph, write_out_boundary_actions,\n",
    "                      write_out_policies, write_out_mechanisms, load_svg_graphviz, write_basic_report_full,\n",
    "                      write_action_chain_reports, write_spec_tree, create_parameter_impact_table,\n",
    "                     write_entity_reports, write_wiring_report, write_entity_markdown_report,\n",
    "                     write_all_markdown_reports)\n",
    "from IPython.display import display, display_html\n",
    "from copy import deepcopy\n",
    "from src import math_spec_json\n",
    "os.chdir(\"MSML/examples/StarterRepo\")\n",
    "ms = load_from_json(deepcopy(math_spec_json))\n",
    "\n",
    "\n",
    "d = \"reports/Markdown\"\n",
    "write_all_markdown_reports(ms, d, clear_folders=True)\n",
    "write_spec_tree(ms, path=d, linking=True)\n",
    "\n"
   ]
  },
  {
   "cell_type": "code",
   "execution_count": 2,
<<<<<<< HEAD
   "id": "f5832793",
=======
   "id": "f0d338cf",
>>>>>>> 4d11b05fa08054a2240cfa4e09909bd906a696e8
   "metadata": {},
   "outputs": [
    {
     "data": {
      "text/plain": [
       "{'python': {'DummyType1': str,\n",
       "  'DummyType2': int,\n",
       "  'DummyCompoundType': {'A': 'Dummy Type 1', 'B': 'Dummy Type 2'}},\n",
       " 'typescript': {'DummyType1': 'type DummyType1 = string',\n",
       "  'DummyType2': 'type DummyType2 = number',\n",
       "  'DummyCompoundType': 'type DummyCompoundType = {\"A\": DummyType1, \"B\": DummyType2}'},\n",
       " 'julia': {'DummyType1': 'abstract type DummyType1 <: AbstractString',\n",
       "  'DummyType2': 'abstract type DummyType2 <: Integer',\n",
       "  'DummyCompoundType': 'struct DummyCompoundType\\n    A::DummyType1\\n    B::DummyType2'}}"
      ]
     },
     "execution_count": 2,
     "metadata": {},
     "output_type": "execute_result"
    }
   ],
   "source": [
    "ms.type_keys"
   ]
  },
  {
   "cell_type": "code",
   "execution_count": null,
   "id": "ec0116a5",
   "metadata": {},
   "outputs": [],
   "source": [
    "write_wiring_report(ms, \"reports\", \"Dummy Boundary Block\")\n",
    "write_basic_report_full(ms, \"reports\", \"Basic Report\")\n",
    "write_action_chain_reports(ms, \"reports\", [\"Dummy Boundary Action\",\n",
    "                                                                     \"Dummy Control Action\"])"
   ]
  },
  {
   "cell_type": "code",
   "execution_count": null,
   "id": "a28e64f8",
   "metadata": {},
   "outputs": [],
   "source": [
    "for behavior in [\"Dummy Boundary Action\", \"Dummy Control Action\"]:\n",
    "    display(create_action_chains_graph(ms, [behavior], behavior))"
   ]
  },
  {
   "cell_type": "code",
   "execution_count": null,
   "id": "2d1d9406",
   "metadata": {},
   "outputs": [],
   "source": [
    "\n",
    "\n",
    "write_basic_report_full(ms, \"reports\", \"Basic Report\")\n",
    "write_action_chain_reports(ms, \"reports\", [\"Dummy Boundary Action\", \"Dummy Control Action\"])\n",
    "write_entity_reports(ms, \"reports\", [\"Dummy\"])\n",
    "write_wiring_report(ms, \"reports\", \"Dummy Boundary Block\")\n",
    "write_wiring_report(ms, \"reports\", \"Dummy Control Block\")"
   ]
  },
  {
   "cell_type": "code",
   "execution_count": null,
   "id": "771fa30a",
   "metadata": {},
   "outputs": [],
   "source": [
    "print(write_spec_tree(ms))"
   ]
  },
  {
   "cell_type": "code",
   "execution_count": null,
   "id": "355b66bd",
   "metadata": {},
   "outputs": [],
   "source": [
    "print(create_parameter_impact_table(ms.param_links, orientation=\"Parameters\"))\n",
    "print()\n",
    "print(create_parameter_impact_table(ms.param_links_exploded, orientation=\"Parameters\"))\n",
    "print()\n",
    "print(create_parameter_impact_table(ms.param_links, orientation=\"Blocks\"))\n",
    "print()\n",
    "print(create_parameter_impact_table(ms.param_links_exploded, orientation=\"Blocks\"))"
   ]
  },
  {
   "cell_type": "code",
   "execution_count": null,
   "id": "c1dde6f0",
   "metadata": {},
   "outputs": [],
   "source": []
  }
 ],
 "metadata": {
  "kernelspec": {
   "display_name": "Python 3 (ipykernel)",
   "language": "python",
   "name": "python3"
  },
  "language_info": {
   "codemirror_mode": {
    "name": "ipython",
    "version": 3
   },
   "file_extension": ".py",
   "mimetype": "text/x-python",
   "name": "python",
   "nbconvert_exporter": "python",
   "pygments_lexer": "ipython3",
   "version": "3.9.7"
  }
 },
 "nbformat": 4,
 "nbformat_minor": 5
}
