{
 "cells": [
  {
   "cell_type": "code",
   "execution_count": 1,
   "id": "8f2ca968",
   "metadata": {},
   "outputs": [
    {
     "ename": "AssertionError",
     "evalue": "",
     "output_type": "error",
     "traceback": [
      "\u001b[0;31m---------------------------------------------------------------------------\u001b[0m",
      "\u001b[0;31mAssertionError\u001b[0m                            Traceback (most recent call last)",
      "\u001b[0;32m/var/folders/y0/fwkpk2ps087b_2qxvhjstrfr0000gn/T/ipykernel_51328/2501891787.py\u001b[0m in \u001b[0;36m<module>\u001b[0;34m\u001b[0m\n\u001b[1;32m     19\u001b[0m \u001b[0;32mfrom\u001b[0m \u001b[0msrc\u001b[0m \u001b[0;32mimport\u001b[0m \u001b[0mmath_spec_json\u001b[0m\u001b[0;34m\u001b[0m\u001b[0;34m\u001b[0m\u001b[0m\n\u001b[1;32m     20\u001b[0m \u001b[0mos\u001b[0m\u001b[0;34m.\u001b[0m\u001b[0mchdir\u001b[0m\u001b[0;34m(\u001b[0m\u001b[0;34m\"MSML/examples/StarterRepo\"\u001b[0m\u001b[0;34m)\u001b[0m\u001b[0;34m\u001b[0m\u001b[0;34m\u001b[0m\u001b[0m\n\u001b[0;32m---> 21\u001b[0;31m \u001b[0mms\u001b[0m \u001b[0;34m=\u001b[0m \u001b[0mload_from_json\u001b[0m\u001b[0;34m(\u001b[0m\u001b[0mdeepcopy\u001b[0m\u001b[0;34m(\u001b[0m\u001b[0mmath_spec_json\u001b[0m\u001b[0;34m)\u001b[0m\u001b[0;34m)\u001b[0m\u001b[0;34m\u001b[0m\u001b[0;34m\u001b[0m\u001b[0m\n\u001b[0m\u001b[1;32m     22\u001b[0m \u001b[0;34m\u001b[0m\u001b[0m\n\u001b[1;32m     23\u001b[0m \u001b[0;34m\u001b[0m\u001b[0m\n",
      "\u001b[0;32m~/Dropbox/BlockScience/MSML/src/math_spec_mapping/Load/load.py\u001b[0m in \u001b[0;36mload_from_json\u001b[0;34m(json)\u001b[0m\n\u001b[1;32m     78\u001b[0m     \u001b[0mcheck_json_keys\u001b[0m\u001b[0;34m(\u001b[0m\u001b[0mms\u001b[0m\u001b[0;34m,\u001b[0m \u001b[0;34m\"Math Spec\"\u001b[0m\u001b[0;34m)\u001b[0m\u001b[0;34m\u001b[0m\u001b[0;34m\u001b[0m\u001b[0m\n\u001b[1;32m     79\u001b[0m \u001b[0;34m\u001b[0m\u001b[0m\n\u001b[0;32m---> 80\u001b[0;31m     \u001b[0mms\u001b[0m \u001b[0;34m=\u001b[0m \u001b[0mMathSpec\u001b[0m\u001b[0;34m(\u001b[0m\u001b[0mms\u001b[0m\u001b[0;34m,\u001b[0m \u001b[0mjson\u001b[0m\u001b[0;34m)\u001b[0m\u001b[0;34m\u001b[0m\u001b[0;34m\u001b[0m\u001b[0m\n\u001b[0m\u001b[1;32m     81\u001b[0m     \u001b[0;32mreturn\u001b[0m \u001b[0mms\u001b[0m\u001b[0;34m\u001b[0m\u001b[0;34m\u001b[0m\u001b[0m\n",
      "\u001b[0;32m~/Dropbox/BlockScience/MSML/src/math_spec_mapping/Classes/MathSpec.py\u001b[0m in \u001b[0;36m__init__\u001b[0;34m(self, ms_dict, json)\u001b[0m\n\u001b[1;32m     44\u001b[0m         \u001b[0mself\u001b[0m\u001b[0;34m.\u001b[0m\u001b[0m_check_dictionary_names\u001b[0m\u001b[0;34m(\u001b[0m\u001b[0;34m)\u001b[0m\u001b[0;34m\u001b[0m\u001b[0;34m\u001b[0m\u001b[0m\n\u001b[1;32m     45\u001b[0m         \u001b[0mself\u001b[0m\u001b[0;34m.\u001b[0m\u001b[0m_build_functional_parameters\u001b[0m\u001b[0;34m(\u001b[0m\u001b[0;34m)\u001b[0m\u001b[0;34m\u001b[0m\u001b[0;34m\u001b[0m\u001b[0m\n\u001b[0;32m---> 46\u001b[0;31m         \u001b[0mself\u001b[0m\u001b[0;34m.\u001b[0m\u001b[0m_build_parameter_types\u001b[0m\u001b[0;34m(\u001b[0m\u001b[0;34m)\u001b[0m\u001b[0;34m\u001b[0m\u001b[0;34m\u001b[0m\u001b[0m\n\u001b[0m\u001b[1;32m     47\u001b[0m \u001b[0;34m\u001b[0m\u001b[0m\n\u001b[1;32m     48\u001b[0m     \u001b[0;32mdef\u001b[0m \u001b[0m_check_dictionary_names\u001b[0m\u001b[0;34m(\u001b[0m\u001b[0mself\u001b[0m\u001b[0;34m)\u001b[0m\u001b[0;34m:\u001b[0m\u001b[0;34m\u001b[0m\u001b[0;34m\u001b[0m\u001b[0m\n",
      "\u001b[0;32m~/Dropbox/BlockScience/MSML/src/math_spec_mapping/Classes/MathSpec.py\u001b[0m in \u001b[0;36m_build_parameter_types\u001b[0;34m(self)\u001b[0m\n\u001b[1;32m    391\u001b[0m                 \u001b[0mbehavioral_parameters_types\u001b[0m\u001b[0;34m[\u001b[0m\u001b[0mx\u001b[0m\u001b[0;34m]\u001b[0m \u001b[0;34m=\u001b[0m \u001b[0mpt\u001b[0m\u001b[0;34m\u001b[0m\u001b[0;34m\u001b[0m\u001b[0m\n\u001b[1;32m    392\u001b[0m             \u001b[0;32melse\u001b[0m\u001b[0;34m:\u001b[0m\u001b[0;34m\u001b[0m\u001b[0;34m\u001b[0m\u001b[0m\n\u001b[0;32m--> 393\u001b[0;31m                 \u001b[0;32massert\u001b[0m \u001b[0;32mFalse\u001b[0m\u001b[0;34m\u001b[0m\u001b[0;34m\u001b[0m\u001b[0m\n\u001b[0m\u001b[1;32m    394\u001b[0m         \u001b[0;32mfor\u001b[0m \u001b[0mx\u001b[0m \u001b[0;32min\u001b[0m \u001b[0mself\u001b[0m\u001b[0;34m.\u001b[0m\u001b[0mfunctional_parameters\u001b[0m\u001b[0;34m:\u001b[0m\u001b[0;34m\u001b[0m\u001b[0;34m\u001b[0m\u001b[0m\n\u001b[1;32m    395\u001b[0m             \u001b[0mfunctional_parameters_types\u001b[0m\u001b[0;34m[\u001b[0m\u001b[0mx\u001b[0m\u001b[0;34m]\u001b[0m \u001b[0;34m=\u001b[0m \u001b[0;34m\"str\"\u001b[0m\u001b[0;34m\u001b[0m\u001b[0;34m\u001b[0m\u001b[0m\n",
      "\u001b[0;31mAssertionError\u001b[0m: "
     ]
    }
   ],
   "source": [
    "import os\n",
    "\n",
    "os.chdir(\"../..\")\n",
    "\n",
    "#folder = \"examples/Starter Repo\"\n",
    "#assert \"src\" not in os.listdir(folder), \"src folder is already created, delete first\"\n",
    "#folder = folder + \"/src\"\n",
    "#os.makedirs(folder)\n",
    "\n",
    "os.chdir(\"..\")\n",
    "\n",
    "from MSML.src.math_spec_mapping import (load_from_json, create_action_chains_graph, write_out_boundary_actions,\n",
    "                      write_out_policies, write_out_mechanisms, load_svg_graphviz, write_basic_report_full,\n",
    "                      write_action_chain_reports, write_spec_tree, create_parameter_impact_table,\n",
    "                     write_entity_reports, write_wiring_report, write_entity_markdown_report,\n",
    "                     write_all_markdown_reports)\n",
    "from IPython.display import display, display_html\n",
    "from copy import deepcopy\n",
    "from src import math_spec_json\n",
    "os.chdir(\"MSML/examples/StarterRepo\")\n",
    "ms = load_from_json(deepcopy(math_spec_json))\n",
    "\n",
    "\n",
    "d = \"reports/Markdown\"\n",
    "write_all_markdown_reports(ms, d, clear_folders=True)\n",
    "write_spec_tree(ms, path=d, linking=True)\n",
    "\n"
   ]
  },
  {
   "cell_type": "code",
   "execution_count": 4,
   "id": "324728e8",
   "metadata": {},
   "outputs": [
    {
     "data": {
      "text/plain": [
       "7"
      ]
     },
     "execution_count": 4,
     "metadata": {},
     "output_type": "execute_result"
    }
   ],
   "source": [
    "len(\"struct \")"
   ]
  },
  {
   "cell_type": "code",
   "execution_count": null,
   "id": "ec0116a5",
   "metadata": {},
   "outputs": [],
   "source": [
    "write_wiring_report(ms, \"reports\", \"Dummy Boundary Block\")\n",
    "write_basic_report_full(ms, \"reports\", \"Basic Report\")\n",
    "write_action_chain_reports(ms, \"reports\", [\"Dummy Boundary Action\",\n",
    "                                                                     \"Dummy Control Action\"])"
   ]
  },
  {
   "cell_type": "code",
   "execution_count": null,
   "id": "a28e64f8",
   "metadata": {},
   "outputs": [],
   "source": [
    "for behavior in [\"Dummy Boundary Action\", \"Dummy Control Action\"]:\n",
    "    display(create_action_chains_graph(ms, [behavior], behavior))"
   ]
  },
  {
   "cell_type": "code",
   "execution_count": null,
   "id": "2d1d9406",
   "metadata": {},
   "outputs": [],
   "source": [
    "\n",
    "\n",
    "write_basic_report_full(ms, \"reports\", \"Basic Report\")\n",
    "write_action_chain_reports(ms, \"reports\", [\"Dummy Boundary Action\", \"Dummy Control Action\"])\n",
    "write_entity_reports(ms, \"reports\", [\"Dummy\"])\n",
    "write_wiring_report(ms, \"reports\", \"Dummy Boundary Block\")\n",
    "write_wiring_report(ms, \"reports\", \"Dummy Control Block\")"
   ]
  },
  {
   "cell_type": "code",
   "execution_count": null,
   "id": "771fa30a",
   "metadata": {},
   "outputs": [],
   "source": [
    "print(write_spec_tree(ms))"
   ]
  },
  {
   "cell_type": "code",
   "execution_count": null,
   "id": "355b66bd",
   "metadata": {},
   "outputs": [],
   "source": [
    "print(create_parameter_impact_table(ms.param_links, orientation=\"Parameters\"))\n",
    "print()\n",
    "print(create_parameter_impact_table(ms.param_links_exploded, orientation=\"Parameters\"))\n",
    "print()\n",
    "print(create_parameter_impact_table(ms.param_links, orientation=\"Blocks\"))\n",
    "print()\n",
    "print(create_parameter_impact_table(ms.param_links_exploded, orientation=\"Blocks\"))"
   ]
  },
  {
   "cell_type": "code",
   "execution_count": null,
   "id": "c1dde6f0",
   "metadata": {},
   "outputs": [],
   "source": []
  }
 ],
 "metadata": {
  "kernelspec": {
   "display_name": "Python 3 (ipykernel)",
   "language": "python",
   "name": "python3"
  },
  "language_info": {
   "codemirror_mode": {
    "name": "ipython",
    "version": 3
   },
   "file_extension": ".py",
   "mimetype": "text/x-python",
   "name": "python",
   "nbconvert_exporter": "python",
   "pygments_lexer": "ipython3",
   "version": "3.9.12"
  }
 },
 "nbformat": 4,
 "nbformat_minor": 5
}
