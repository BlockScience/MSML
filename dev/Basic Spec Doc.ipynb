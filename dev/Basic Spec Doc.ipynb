{
 "cells": [
  {
   "cell_type": "code",
   "execution_count": 3,
   "id": "41f765cc",
   "metadata": {},
   "outputs": [],
   "source": [
    "import json\n",
    "\n",
    "with open(\"../src/schema.schema.json\", \"r\") as f:\n",
    "    f = f.read()\n",
    "f = f.replace(\"./schema.schema.json/\", \"\")\n",
    "schema = json.loads(f)"
   ]
  },
  {
   "cell_type": "code",
   "execution_count": 8,
   "id": "8b7a380a",
   "metadata": {},
   "outputs": [
    {
     "data": {
      "text/plain": [
       "dict_keys(['Policies', 'Spaces', 'State', 'Stateful Metrics', 'Parameters', 'Mechanisms', 'Entities', 'Boundary Actions', 'Control Actions', 'Wiring', 'Types', 'Metrics', 'Displays'])"
      ]
     },
     "execution_count": 8,
     "metadata": {},
     "output_type": "execute_result"
    }
   ],
   "source": [
    "schema['definitions']['MSMLSpec']['properties'].keys()"
   ]
  },
  {
   "cell_type": "code",
   "execution_count": 52,
   "id": "ebd779b7",
   "metadata": {},
   "outputs": [
    {
     "data": {
      "text/plain": [
       "('Entities',\n",
       " 'Boundary Actions',\n",
       " 'Control Actions',\n",
       " 'Wiring',\n",
       " 'Types',\n",
       " 'Metrics',\n",
       " 'Displays')"
      ]
     },
     "execution_count": 52,
     "metadata": {},
     "output_type": "execute_result"
    }
   ],
   "source": [
    "'Wiring', 'Types', 'Metrics', 'Displays'"
   ]
  },
  {
   "cell_type": "code",
   "execution_count": 38,
   "id": "485a5051",
   "metadata": {},
   "outputs": [
    {
     "data": {
      "text/plain": [
       "'Stateful Metrics'"
      ]
     },
     "execution_count": 38,
     "metadata": {},
     "output_type": "execute_result"
    }
   ],
   "source": [
    "'Stateful Metrics'"
   ]
  },
  {
   "cell_type": "code",
   "execution_count": 49,
   "id": "04476aa7",
   "metadata": {},
   "outputs": [],
   "source": [
    "def write_json_description(schema, key, name):\n",
    "    out = \"- **{}**: \".format(name)\n",
    "    \n",
    "    out += schema['definitions'][key]['description']\n",
    "    out += \"\\n\"\n",
    "    return out"
   ]
  },
  {
   "cell_type": "code",
   "execution_count": 62,
   "id": "15509a99",
   "metadata": {},
   "outputs": [],
   "source": [
    "indent_level = 2\n",
    "\n",
    "out = \"#{} MSML Components\".format(\"#\" * indent_level)\n",
    "out += \"\\n\\n\"\n",
    "out += \"MSML extends GDS with multiple types of blocks and other enhancements. Below are the definitions of top level components.\"\n",
    "out += \"\\n\\n\"\n",
    "\n",
    "out += \"##{} Types & Spaces\".format(\"#\" * indent_level)\n",
    "out += \"\\n\\n\"\n",
    "\n",
    "out += write_json_description(schema, \"Type\", \"Type\")\n",
    "out += write_json_description(schema, \"Space\", \"Space\")\n",
    "\n",
    "out += \"\\n\"\n",
    "\n",
    "\n",
    "out += \"##{} Entities, States, Parameters & Metrics\".format(\"#\" * indent_level)\n",
    "out += \"\\n\\n\"\n",
    "\n",
    "out += write_json_description(schema, \"Entity\", \"Entity\")\n",
    "out += write_json_description(schema, \"State\", \"State\")\n",
    "out += write_json_description(schema, \"StatefulMetric\",\"Stateful Metric\")\n",
    "out += write_json_description(schema, \"Parameter\", \"Parameter\")\n",
    "out += write_json_description(schema, \"Metric\", \"Metric\")\n",
    "\n",
    "out += \"\\n\"\n",
    "\n",
    "out += \"##{} Blocks & Wiring\".format(\"#\" * indent_level)\n",
    "out += \"\\n\\n\"\n",
    "\n",
    "\n",
    "out += write_json_description(schema, \"BoundaryAction\", \"Boundary Action\")\n",
    "out += write_json_description(schema, \"ControlAction\", \"Control Action\")\n",
    "out += write_json_description(schema, \"Policy\", \"Policy\")\n",
    "out += write_json_description(schema, \"Mechanism\", \"Mechanism\")\n",
    "out += write_json_description(schema, \"Wiring\", \"Wiring\")\n",
    "\n",
    "out += \"\\n\""
   ]
  },
  {
   "cell_type": "code",
   "execution_count": 57,
   "id": "44a7bc02",
   "metadata": {},
   "outputs": [
    {
     "name": "stdout",
     "output_type": "stream",
     "text": [
      "### MSML Components\n",
      "\n",
      "MSML extends GDS with multiple types of blocks and other enhancements. Below are the definitions of top level components.\n",
      "\n",
      "#### Types & Spaces\n",
      "\n",
      "- **Space**: Spaces are similar to types in that they define a schema for data and are used as the domain/codomain for different blocks. They can be thought of as typed dictionaries.\n",
      "\n",
      "#### Entities, States, Parameters & Metrics\n",
      "\n",
      "- **Entity**: Entities are any class of user or infrastructure that should have their own state and potentially ability to call boundary actions. Examples could be a customer or a company (for which a simulation might assume it is acting as one cohesive unit)\n",
      "- **State**: The definition of states in the system. There is one global system state and then the rest of the definitions are local states, generally for recording what entity states there are.\n",
      "- **Stateful Metric**: Variables that are not held directly in the state but can computed from the state & parameters.\n",
      "- **Parameter**: Both local and global parameter sets in the system that could be set\n",
      "\n",
      "#### Blocks & Wirings\n",
      "\n",
      "- **Boundary Action**: The definition of different actions that might happen outside of the system such as customers coming into a shop. Generally will be called by entities.\n",
      "- **Control Action**: The definition of actions that the system might call, such as an action to refill the stock of an item when reserves run too low or something that could get triggered from a sensor. The key differentiator from boundary actions is that there is no entity calling it and it is not done with randomness.\n",
      "- **Policy**: A definition of the policies that handle all logical things. This could be, for example, a policy which determines what price is paid given a boundary action of someone putting in a market buy order for a stock.\n",
      "- **Mechanism**: Anything that updates state in the system, usually policies will call these with the outputs of logic. The reasoning to split them out is so that if at some point you want to add a recording variable every time an account is changed or do something like have a variable listener, you can just change the mechanism responsible for it in only one place.\n",
      "\n",
      "\n"
     ]
    }
   ],
   "source": [
    "print(out)"
   ]
  },
  {
   "cell_type": "code",
   "execution_count": null,
   "id": "739e7ead",
   "metadata": {},
   "outputs": [],
   "source": []
  }
 ],
 "metadata": {
  "kernelspec": {
   "display_name": "Python 3 (ipykernel)",
   "language": "python",
   "name": "python3"
  },
  "language_info": {
   "codemirror_mode": {
    "name": "ipython",
    "version": 3
   },
   "file_extension": ".py",
   "mimetype": "text/x-python",
   "name": "python",
   "nbconvert_exporter": "python",
   "pygments_lexer": "ipython3",
   "version": "3.9.7"
  }
 },
 "nbformat": 4,
 "nbformat_minor": 5
}
