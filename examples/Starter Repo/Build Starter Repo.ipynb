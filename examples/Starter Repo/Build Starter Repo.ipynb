{
 "cells": [
  {
   "cell_type": "code",
   "execution_count": 1,
   "id": "8f2ca968",
   "metadata": {},
   "outputs": [
    {
     "data": {
      "text/plain": [
       "'\\nfor behavior in [\"Dummy Boundary Action\", \"Dummy Control Action\"]:\\n    display(create_action_chains_graph(ms, [behavior], behavior))\\n\\nwrite_basic_report_full(ms, \"MSML/examples/Starter Repo/reports\", \"Basic Report\")\\n\\nwrite_action_chain_reports(ms, \"MSML/examples/Starter Repo/reports\", [\"Dummy Boundary Action\", \"Dummy Control Action\"])'"
      ]
     },
     "execution_count": 1,
     "metadata": {},
     "output_type": "execute_result"
    }
   ],
   "source": [
    "import os\n",
    "\n",
    "os.chdir(\"../..\")\n",
    "\n",
    "#folder = \"examples/Starter Repo\"\n",
    "#assert \"src\" not in os.listdir(folder), \"src folder is already created, delete first\"\n",
    "#folder = folder + \"/src\"\n",
    "#os.makedirs(folder)\n",
    "\n",
    "os.chdir(\"..\")\n",
    "\n",
    "from MSML.src import load_from_json, create_action_chains_graph, write_out_boundary_actions, write_out_policies, write_out_mechanisms, load_svg_graphviz, write_basic_report_full, write_action_chain_reports, write_spec_tree\n",
    "from IPython.display import display, display_html\n",
    "from copy import deepcopy\n",
    "from src import math_spec_json\n",
    "ms = load_from_json(deepcopy(math_spec_json))\n",
    "\n",
    "\"\"\"\n",
    "for behavior in [\"Dummy Boundary Action\", \"Dummy Control Action\"]:\n",
    "    display(create_action_chains_graph(ms, [behavior], behavior))\n",
    "\n",
    "write_basic_report_full(ms, \"MSML/examples/Starter Repo/reports\", \"Basic Report\")\n",
    "\n",
    "write_action_chain_reports(ms, \"MSML/examples/Starter Repo/reports\", [\"Dummy Boundary Action\", \"Dummy Control Action\"])\"\"\""
   ]
  },
  {
   "cell_type": "code",
   "execution_count": 2,
   "id": "771fa30a",
   "metadata": {},
   "outputs": [
    {
     "name": "stdout",
     "output_type": "stream",
     "text": [
      "├──Entities\n",
      "│   ├──Dummy\n",
      "├──State\n",
      "│   ├──Dummy\n",
      "│   │   ├──Variable A\n",
      "│   │   ├──Variable B\n",
      "│   │   ├──Variable C\n",
      "├──Spaces\n",
      "│   ├──Dummy Space 1\n",
      "│   ├──Dummy Space 2\n",
      "├──Parameters\n",
      "│   ├──Dummy\n",
      "│   │   ├──dummy_parameter\n",
      "├──Boundary Actions\n",
      "│   ├──Dummy Boundary Action\n",
      "├──Control Actions\n",
      "│   ├──Dummy Control Action\n",
      "├──Policies\n",
      "│   ├──Dummy Policy\n",
      "├──Mechanisms\n",
      "│   ├──Dummy Mechanism\n",
      "\n"
     ]
    }
   ],
   "source": [
    "print(write_spec_tree(ms))"
   ]
  },
  {
   "cell_type": "code",
   "execution_count": 3,
   "id": "3fb569d5",
   "metadata": {},
   "outputs": [
    {
     "data": {
      "text/plain": [
       "{'dummy_parameter': {'Boundary Actions': [],\n",
       "  'Control Actions': [],\n",
       "  'Policies': [<MSML.src.Classes.ControlAction.ControlAction at 0x7fa4987c93d0>],\n",
       "  'Mechanisms': []}}"
      ]
     },
     "execution_count": 3,
     "metadata": {},
     "output_type": "execute_result"
    }
   ],
   "source": [
    "ms.param_links"
   ]
  },
  {
   "cell_type": "code",
   "execution_count": 4,
   "id": "d1d11495",
   "metadata": {},
   "outputs": [],
   "source": [
    "from MSML.src.Classes import Mechanism, Policy, BoundaryAction, ControlAction"
   ]
  },
  {
   "cell_type": "code",
   "execution_count": 5,
   "id": "b582292e",
   "metadata": {},
   "outputs": [
    {
     "name": "stdout",
     "output_type": "stream",
     "text": [
      "[<MSML.src.Classes.ControlAction.ControlAction object at 0x7fa4987c93d0>]\n",
      "[<MSML.src.Classes.Policy.Policy object at 0x7fa498799c70>]\n"
     ]
    }
   ],
   "source": [
    "param_links_exploded = ms.param_links.copy()\n",
    "for param in param_links_exploded:\n",
    "    q = []\n",
    "    d = param_links_exploded[param]\n",
    "    d[\"Entities\"] = []\n",
    "    for key in d:\n",
    "        q.extend(d[key])\n",
    "        \n",
    "q1 = q.copy()\n",
    "q2 = q.copy()\n",
    "\n",
    "# Look for downstream\n",
    "while len(q1) > 0:\n",
    "    cur = q1.pop()\n",
    "    if type(cur) == ControlAction:\n",
    "        if cur not in d[\"Control Actions\"]:\n",
    "            d[\"Control Actions\"].append(cur)\n",
    "\n",
    "# Look for upstream\n",
    "while len(q2) > 0:\n",
    "    print(q2)\n",
    "    cur = q2.pop()\n",
    "    if type(cur) == ControlAction:\n",
    "        if cur not in d[\"Control Actions\"]:\n",
    "            d[\"Control Actions\"].append(cur)\n",
    "        q2.extend([x[0] for x in cur.calls])"
   ]
  },
  {
   "cell_type": "code",
   "execution_count": 8,
   "id": "08329c80",
   "metadata": {},
   "outputs": [
    {
     "data": {
      "text/plain": [
       "{'dummy_parameter': {'Boundary Actions': [],\n",
       "  'Control Actions': [<MSML.src.Classes.ControlAction.ControlAction at 0x7fc2500c1c70>],\n",
       "  'Policies': [<MSML.src.Classes.ControlAction.ControlAction at 0x7fc2500c1c70>],\n",
       "  'Mechanisms': [],\n",
       "  'Entities': []}}"
      ]
     },
     "execution_count": 8,
     "metadata": {},
     "output_type": "execute_result"
    }
   ],
   "source": [
    "ms.param_links"
   ]
  },
  {
   "cell_type": "code",
   "execution_count": null,
   "id": "87cfc26d",
   "metadata": {},
   "outputs": [],
   "source": []
  },
  {
   "cell_type": "code",
   "execution_count": 22,
   "id": "2d2ad751",
   "metadata": {},
   "outputs": [
    {
     "name": "stdout",
     "output_type": "stream",
     "text": [
      "A\n",
      "<MSML.src.Classes.ControlAction.ControlAction object at 0x7fecd1889520>\n"
     ]
    }
   ],
   "source": []
  },
  {
   "cell_type": "code",
   "execution_count": 5,
   "id": "90d62bc2",
   "metadata": {},
   "outputs": [],
   "source": [
    "# Add in param_links_exploded which has all actions linked\n",
    "\n",
    "# Add a way to display in a grid the parameters, then the columns as the four groups, and the specific ones that fill it in each\n",
    "\n",
    "# Add functionality to highlight the most important enties, boundaries, etc"
   ]
  },
  {
   "cell_type": "code",
   "execution_count": 14,
   "id": "be71ea85",
   "metadata": {},
   "outputs": [],
   "source": []
  },
  {
   "cell_type": "code",
   "execution_count": 15,
   "id": "80036b5f",
   "metadata": {},
   "outputs": [
    {
     "data": {
      "text/plain": [
       "{'dummy_parameter': {'Boundary Actions': [],\n",
       "  'Control Actions': [],\n",
       "  'Policies': [<MSML.src.Classes.ControlAction.ControlAction at 0x7fc0b8550310>],\n",
       "  'Mechanisms': []}}"
      ]
     },
     "execution_count": 15,
     "metadata": {},
     "output_type": "execute_result"
    }
   ],
   "source": [
    "param_links"
   ]
  },
  {
   "cell_type": "code",
   "execution_count": null,
   "id": "81186ec5",
   "metadata": {},
   "outputs": [],
   "source": []
  }
 ],
 "metadata": {
  "kernelspec": {
   "display_name": "Python 3 (ipykernel)",
   "language": "python",
   "name": "python3"
  },
  "language_info": {
   "codemirror_mode": {
    "name": "ipython",
    "version": 3
   },
   "file_extension": ".py",
   "mimetype": "text/x-python",
   "name": "python",
   "nbconvert_exporter": "python",
   "pygments_lexer": "ipython3",
   "version": "3.9.12"
  }
 },
 "nbformat": 4,
 "nbformat_minor": 5
}
