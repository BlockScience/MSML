{
 "cells": [
  {
   "cell_type": "code",
   "execution_count": 1,
   "id": "8f2ca968",
   "metadata": {},
   "outputs": [
    {
     "ename": "ImportError",
     "evalue": "cannot import name 'load_from_json' from 'math_spec_mapping' (/Users/seanmcowen/opt/anaconda3/envs/BlockScience/lib/python3.9/site-packages/math_spec_mapping/__init__.py)",
     "output_type": "error",
     "traceback": [
      "\u001b[0;31m---------------------------------------------------------------------------\u001b[0m",
      "\u001b[0;31mImportError\u001b[0m                               Traceback (most recent call last)",
      "\u001b[0;32m/var/folders/y0/fwkpk2ps087b_2qxvhjstrfr0000gn/T/ipykernel_1478/1852391249.py\u001b[0m in \u001b[0;36m<module>\u001b[0;34m\u001b[0m\n\u001b[0;32m----> 1\u001b[0;31m from math_spec_mapping import (load_from_json, create_action_chains_graph, write_out_boundary_actions,\n\u001b[0m\u001b[1;32m      2\u001b[0m                       \u001b[0mwrite_out_policies\u001b[0m\u001b[0;34m,\u001b[0m \u001b[0mwrite_out_mechanisms\u001b[0m\u001b[0;34m,\u001b[0m \u001b[0mload_svg_graphviz\u001b[0m\u001b[0;34m,\u001b[0m \u001b[0mwrite_basic_report_full\u001b[0m\u001b[0;34m,\u001b[0m\u001b[0;34m\u001b[0m\u001b[0;34m\u001b[0m\u001b[0m\n\u001b[1;32m      3\u001b[0m                       \u001b[0mwrite_action_chain_reports\u001b[0m\u001b[0;34m,\u001b[0m \u001b[0mwrite_spec_tree\u001b[0m\u001b[0;34m,\u001b[0m \u001b[0mcreate_parameter_impact_table\u001b[0m\u001b[0;34m,\u001b[0m\u001b[0;34m\u001b[0m\u001b[0;34m\u001b[0m\u001b[0m\n\u001b[1;32m      4\u001b[0m                      \u001b[0mwrite_entity_reports\u001b[0m\u001b[0;34m,\u001b[0m \u001b[0mwrite_wiring_report\u001b[0m\u001b[0;34m,\u001b[0m \u001b[0mwrite_entity_markdown_report\u001b[0m\u001b[0;34m,\u001b[0m\u001b[0;34m\u001b[0m\u001b[0;34m\u001b[0m\u001b[0m\n\u001b[1;32m      5\u001b[0m                      write_all_markdown_reports)\n",
      "\u001b[0;31mImportError\u001b[0m: cannot import name 'load_from_json' from 'math_spec_mapping' (/Users/seanmcowen/opt/anaconda3/envs/BlockScience/lib/python3.9/site-packages/math_spec_mapping/__init__.py)"
     ]
    }
   ],
   "source": [
    "from math_spec_mapping import (load_from_json, create_action_chains_graph, write_out_boundary_actions,\n",
    "                      write_out_policies, write_out_mechanisms, load_svg_graphviz, write_basic_report_full,\n",
    "                      write_action_chain_reports, write_spec_tree, create_parameter_impact_table,\n",
    "                     write_entity_reports, write_wiring_report, write_entity_markdown_report,\n",
    "                     write_all_markdown_reports)\n",
    "from src import math_spec_json\n",
    "ms = load_from_json(deepcopy(math_spec_json))\n",
    "\n",
    "\n",
    "d = \"reports/Markdown\"\n",
    "write_all_markdown_reports(ms, d, clear_folders=True)\n",
    "write_spec_tree(ms, path=d, linking=True)\n"
   ]
  },
  {
   "cell_type": "code",
   "execution_count": null,
   "id": "2e3550d1",
   "metadata": {},
   "outputs": [],
   "source": []
  }
 ],
 "metadata": {
  "kernelspec": {
   "display_name": "Python 3 (ipykernel)",
   "language": "python",
   "name": "python3"
  },
  "language_info": {
   "codemirror_mode": {
    "name": "ipython",
    "version": 3
   },
   "file_extension": ".py",
   "mimetype": "text/x-python",
   "name": "python",
   "nbconvert_exporter": "python",
   "pygments_lexer": "ipython3",
   "version": "3.9.12"
  }
 },
 "nbformat": 4,
 "nbformat_minor": 5
}
