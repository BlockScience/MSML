{
 "cells": [
  {
   "cell_type": "code",
   "execution_count": 61,
   "id": "26ccd4b0",
   "metadata": {},
   "outputs": [],
   "source": [
    "class Block:\n",
    "    \n",
    "    def __init__(self,name):\n",
    "        self.name = name\n",
    "    \n",
    "    def render(self, i):\n",
    "        i += 1\n",
    "        return \"X{}[{}]\".format(i, self.name), i\n",
    "        \n",
    "class ParallelBlock:\n",
    "    def __init__(self, name, components):\n",
    "        self.name = name\n",
    "        self.components\n",
    "        \n",
    "class StackBlock:\n",
    "    def __init__(self, name, components):\n",
    "        self.name = name\n",
    "        self.components = components\n",
    "        \n",
    "    def render(self, i):\n",
    "        start_i = i\n",
    "        out = \"\"\n",
    "        \n",
    "        # Render components\n",
    "        for component in self.components:\n",
    "            component, i = component.render(i)\n",
    "            out += component\n",
    "            out += \"\\n\"\n",
    "        end_i = i\n",
    "        \n",
    "        # Render connections\n",
    "        for ix in range(start_i+1, end_i):\n",
    "            out += \"X{}-->X{}\".format(ix, ix+1)\n",
    "            out += \"\\n\"\n",
    "        \n",
    "        # Subgraph it\n",
    "        i += 1\n",
    "        out = \"subgraph X{} \\n\".format(i) + out\n",
    "        out += \"end\"\n",
    "        \n",
    "        return out, i"
   ]
  },
  {
   "cell_type": "code",
   "execution_count": null,
   "id": "831398d9",
   "metadata": {},
   "outputs": [],
   "source": []
  },
  {
   "cell_type": "code",
   "execution_count": 62,
   "id": "b856f734",
   "metadata": {},
   "outputs": [],
   "source": [
    "block_a = Block(name='A')\n",
    "block_b = Block(name='B')\n",
    "block_c = Block(name='C')\n",
    "simulation_block = StackBlock('Simulation 1', [block_a, block_b, block_c])"
   ]
  },
  {
   "cell_type": "code",
   "execution_count": 63,
   "id": "0044e85d",
   "metadata": {},
   "outputs": [
    {
     "name": "stdout",
     "output_type": "stream",
     "text": [
      "subgraph X4 \n",
      "X1[A]\n",
      "X2[B]\n",
      "X3[C]\n",
      "X1-->X2\n",
      "X2-->X3\n",
      "end\n"
     ]
    }
   ],
   "source": [
    "i = 0\n",
    "g, i = simulation_block.render(i)\n",
    "print(g)"
   ]
  },
  {
   "cell_type": "code",
   "execution_count": null,
   "id": "08f688fa",
   "metadata": {},
   "outputs": [],
   "source": []
  },
  {
   "cell_type": "markdown",
   "id": "a714a7d7",
   "metadata": {},
   "source": [
    "```mermaid\n",
    "graph LR\n",
    "A[JSON Object \\n\\n Each spec has a repo for tracking changes \\n Must conform to the json specification \\n Defines all aspects of the spec including blocks, spaces and actions] -->B[MSML Object \\n\\n JSON file and parsed, with validations and mappings along the way \\n Can show different views on the fly]\n",
    "    B --> C[Report Outputs \\n\\n Automatically build reports for the full spec or subviews \\n Example: all blocks with an effect on variable XYZ]\n",
    "\n",
    "```"
   ]
  },
  {
   "cell_type": "code",
   "execution_count": 19,
   "id": "c3aa7980",
   "metadata": {},
   "outputs": [
    {
     "data": {
      "text/plain": [
       "'```mermaid\\ngraph LR\\nA[JSON Object \\n\\n Each spec has a repo for tracking changes \\n Must conform to the json specification \\n Defines all aspects of the spec including blocks, spaces and actions] -->B[MSML Object \\n\\n JSON file and parsed, with validations and mappings along the way \\n Can show different views on the fly]\\n    B --> C[Report Outputs \\n\\n Automatically build reports for the full spec or subviews \\n Example: all blocks with an effect on variable XYZ]\\n\\n```'"
      ]
     },
     "metadata": {},
     "output_type": "display_data"
    }
   ],
   "source": [
    "from IPython.display import display\n",
    "\n",
    "display(\"\"\"```mermaid\n",
    "graph LR\n",
    "A[JSON Object \\n\\n Each spec has a repo for tracking changes \\n Must conform to the json specification \\n Defines all aspects of the spec including blocks, spaces and actions] -->B[MSML Object \\n\\n JSON file and parsed, with validations and mappings along the way \\n Can show different views on the fly]\n",
    "    B --> C[Report Outputs \\n\\n Automatically build reports for the full spec or subviews \\n Example: all blocks with an effect on variable XYZ]\n",
    "\n",
    "```\"\"\")"
   ]
  },
  {
   "cell_type": "code",
   "execution_count": 16,
   "id": "63cc4990",
   "metadata": {},
   "outputs": [],
   "source": []
  },
  {
   "cell_type": "code",
   "execution_count": null,
   "id": "67e572b1",
   "metadata": {},
   "outputs": [],
   "source": []
  }
 ],
 "metadata": {
  "kernelspec": {
   "display_name": "Python 3 (ipykernel)",
   "language": "python",
   "name": "python3"
  },
  "language_info": {
   "codemirror_mode": {
    "name": "ipython",
    "version": 3
   },
   "file_extension": ".py",
   "mimetype": "text/x-python",
   "name": "python",
   "nbconvert_exporter": "python",
   "pygments_lexer": "ipython3",
   "version": "3.9.12"
  }
 },
 "nbformat": 4,
 "nbformat_minor": 5
}
