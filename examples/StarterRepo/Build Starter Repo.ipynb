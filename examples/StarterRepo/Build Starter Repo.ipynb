{
 "cells": [
  {
   "cell_type": "code",
   "execution_count": 1,
   "id": "8f2ca968",
   "metadata": {},
   "outputs": [
    {
     "ename": "ImportError",
     "evalue": "cannot import name 'load_from_json' from 'MSML.src' (unknown location)",
     "output_type": "error",
     "traceback": [
      "\u001b[0;31m---------------------------------------------------------------------------\u001b[0m",
      "\u001b[0;31mImportError\u001b[0m                               Traceback (most recent call last)",
      "\u001b[0;32m/var/folders/y0/fwkpk2ps087b_2qxvhjstrfr0000gn/T/ipykernel_51317/534029660.py\u001b[0m in \u001b[0;36m<module>\u001b[0;34m\u001b[0m\n\u001b[1;32m     10\u001b[0m \u001b[0mos\u001b[0m\u001b[0;34m.\u001b[0m\u001b[0mchdir\u001b[0m\u001b[0;34m(\u001b[0m\u001b[0;34m\"..\"\u001b[0m\u001b[0;34m)\u001b[0m\u001b[0;34m\u001b[0m\u001b[0;34m\u001b[0m\u001b[0m\n\u001b[1;32m     11\u001b[0m \u001b[0;34m\u001b[0m\u001b[0m\n\u001b[0;32m---> 12\u001b[0;31m from MSML.src import (load_from_json, create_action_chains_graph, write_out_boundary_actions,\n\u001b[0m\u001b[1;32m     13\u001b[0m                       \u001b[0mwrite_out_policies\u001b[0m\u001b[0;34m,\u001b[0m \u001b[0mwrite_out_mechanisms\u001b[0m\u001b[0;34m,\u001b[0m \u001b[0mload_svg_graphviz\u001b[0m\u001b[0;34m,\u001b[0m \u001b[0mwrite_basic_report_full\u001b[0m\u001b[0;34m,\u001b[0m\u001b[0;34m\u001b[0m\u001b[0;34m\u001b[0m\u001b[0m\n\u001b[1;32m     14\u001b[0m                       \u001b[0mwrite_action_chain_reports\u001b[0m\u001b[0;34m,\u001b[0m \u001b[0mwrite_spec_tree\u001b[0m\u001b[0;34m,\u001b[0m \u001b[0mcreate_parameter_impact_table\u001b[0m\u001b[0;34m,\u001b[0m\u001b[0;34m\u001b[0m\u001b[0;34m\u001b[0m\u001b[0m\n",
      "\u001b[0;31mImportError\u001b[0m: cannot import name 'load_from_json' from 'MSML.src' (unknown location)"
     ]
    }
   ],
   "source": [
    "import os\n",
    "\n",
    "os.chdir(\"../..\")\n",
    "\n",
    "#folder = \"examples/Starter Repo\"\n",
    "#assert \"src\" not in os.listdir(folder), \"src folder is already created, delete first\"\n",
    "#folder = folder + \"/src\"\n",
    "#os.makedirs(folder)\n",
    "\n",
    "os.chdir(\"..\")\n",
    "\n",
    "from MSML.src.math_spec_mapping import (load_from_json, create_action_chains_graph, write_out_boundary_actions,\n",
    "                      write_out_policies, write_out_mechanisms, load_svg_graphviz, write_basic_report_full,\n",
    "                      write_action_chain_reports, write_spec_tree, create_parameter_impact_table,\n",
    "                     write_entity_reports, write_wiring_report, write_entity_markdown_report,\n",
    "                     write_all_markdown_reports)\n",
    "from IPython.display import display, display_html\n",
    "from copy import deepcopy\n",
    "from src import math_spec_json\n",
    "os.chdir(\"MSML/examples/StarterRepo\")\n",
    "ms = load_from_json(deepcopy(math_spec_json))\n",
    "\n",
    "\n",
    "d = \"reports/Markdown\"\n",
    "write_all_markdown_reports(ms, d, clear_folders=True)\n",
    "write_spec_tree(ms, path=d, linking=True)\n",
    "\n"
   ]
  },
  {
   "cell_type": "code",
   "execution_count": 4,
   "id": "324728e8",
   "metadata": {},
   "outputs": [
    {
     "data": {
      "text/plain": [
       "7"
      ]
     },
     "execution_count": 4,
     "metadata": {},
     "output_type": "execute_result"
    }
   ],
   "source": [
    "len(\"struct \")"
   ]
  },
  {
   "cell_type": "code",
   "execution_count": null,
   "id": "ec0116a5",
   "metadata": {},
   "outputs": [],
   "source": [
    "write_wiring_report(ms, \"reports\", \"Dummy Boundary Block\")\n",
    "write_basic_report_full(ms, \"reports\", \"Basic Report\")\n",
    "write_action_chain_reports(ms, \"reports\", [\"Dummy Boundary Action\",\n",
    "                                                                     \"Dummy Control Action\"])"
   ]
  },
  {
   "cell_type": "code",
   "execution_count": null,
   "id": "a28e64f8",
   "metadata": {},
   "outputs": [],
   "source": [
    "for behavior in [\"Dummy Boundary Action\", \"Dummy Control Action\"]:\n",
    "    display(create_action_chains_graph(ms, [behavior], behavior))"
   ]
  },
  {
   "cell_type": "code",
   "execution_count": null,
   "id": "2d1d9406",
   "metadata": {},
   "outputs": [],
   "source": [
    "\n",
    "\n",
    "write_basic_report_full(ms, \"reports\", \"Basic Report\")\n",
    "write_action_chain_reports(ms, \"reports\", [\"Dummy Boundary Action\", \"Dummy Control Action\"])\n",
    "write_entity_reports(ms, \"reports\", [\"Dummy\"])\n",
    "write_wiring_report(ms, \"reports\", \"Dummy Boundary Block\")\n",
    "write_wiring_report(ms, \"reports\", \"Dummy Control Block\")"
   ]
  },
  {
   "cell_type": "code",
   "execution_count": null,
   "id": "771fa30a",
   "metadata": {},
   "outputs": [],
   "source": [
    "print(write_spec_tree(ms))"
   ]
  },
  {
   "cell_type": "code",
   "execution_count": null,
   "id": "355b66bd",
   "metadata": {},
   "outputs": [],
   "source": [
    "print(create_parameter_impact_table(ms.param_links, orientation=\"Parameters\"))\n",
    "print()\n",
    "print(create_parameter_impact_table(ms.param_links_exploded, orientation=\"Parameters\"))\n",
    "print()\n",
    "print(create_parameter_impact_table(ms.param_links, orientation=\"Blocks\"))\n",
    "print()\n",
    "print(create_parameter_impact_table(ms.param_links_exploded, orientation=\"Blocks\"))"
   ]
  },
  {
   "cell_type": "code",
   "execution_count": null,
   "id": "c1dde6f0",
   "metadata": {},
   "outputs": [],
   "source": []
  }
 ],
 "metadata": {
  "kernelspec": {
   "display_name": "Python 3 (ipykernel)",
   "language": "python",
   "name": "python3"
  },
  "language_info": {
   "codemirror_mode": {
    "name": "ipython",
    "version": 3
   },
   "file_extension": ".py",
   "mimetype": "text/x-python",
   "name": "python",
   "nbconvert_exporter": "python",
   "pygments_lexer": "ipython3",
   "version": "3.9.12"
  }
 },
 "nbformat": 4,
 "nbformat_minor": 5
}
