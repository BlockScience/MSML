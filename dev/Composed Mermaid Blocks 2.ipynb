{
 "cells": [
  {
   "cell_type": "code",
   "execution_count": 1,
   "id": "2a9903b3",
   "metadata": {},
   "outputs": [],
   "source": [
    "import os\n",
    "\n",
    "os.chdir(\"..\")\n",
    "from src import (load_from_json, create_action_chains_graph, write_out_boundary_actions,\n",
    "                      write_out_policies, write_out_mechanisms, load_svg_graphviz, write_basic_report_full,\n",
    "                      write_action_chain_reports, write_spec_tree, create_parameter_impact_table,\n",
    "                     write_entity_reports)\n",
    "from src.Classes import ParallelBlock, StackBlock, SplitBlock\n",
    "from IPython.display import display, display_html\n",
    "from copy import deepcopy\n",
    "from examples.StarterRepo.src import math_spec_json\n",
    "ms = load_from_json(deepcopy(math_spec_json))"
   ]
  },
  {
   "cell_type": "code",
   "execution_count": 2,
   "id": "6cb7b5fd",
   "metadata": {},
   "outputs": [],
   "source": [
    "parallel_block_data = {\"name\": \"Parallel Block\",\n",
    "                       \"components\": [ms.policies['Dummy Policy'], ms.policies['Dummy Policy']],\n",
    "                      \"description\": \"First parallel block\",\n",
    "                      \"constraints\": [],}\n",
    "\n",
    "parallel_block = ParallelBlock(parallel_block_data)"
   ]
  },
  {
   "cell_type": "code",
   "execution_count": 3,
   "id": "cf0e2eff",
   "metadata": {},
   "outputs": [],
   "source": [
    "stack_block_data = {\"name\": \"Stack Block\",\n",
    "                       \"components\": [ms.boundary_actions['Dummy Boundary Action'],\n",
    "                                      ms.policies['Dummy Policy'],\n",
    "                                     ms.mechanisms['Dummy Mechanism']],\n",
    "                      \"description\": \"First stack block\",\n",
    "                      \"constraints\": [],}\n",
    "\n",
    "stack_block = StackBlock(stack_block_data)"
   ]
  },
  {
   "cell_type": "code",
   "execution_count": 4,
   "id": "c16411ac",
   "metadata": {},
   "outputs": [
    {
     "ename": "KeyError",
     "evalue": "'description'",
     "output_type": "error",
     "traceback": [
      "\u001b[0;31m---------------------------------------------------------------------------\u001b[0m",
      "\u001b[0;31mKeyError\u001b[0m                                  Traceback (most recent call last)",
      "\u001b[0;32m/var/folders/y0/fwkpk2ps087b_2qxvhjstrfr0000gn/T/ipykernel_44596/3134215749.py\u001b[0m in \u001b[0;36m<module>\u001b[0;34m\u001b[0m\n\u001b[1;32m     11\u001b[0m                          \"components\": [parallel_block,\n\u001b[1;32m     12\u001b[0m                                         split_block]}\n\u001b[0;32m---> 13\u001b[0;31m \u001b[0mparallel_to_split_block\u001b[0m \u001b[0;34m=\u001b[0m \u001b[0mStackBlock\u001b[0m\u001b[0;34m(\u001b[0m\u001b[0mparallel_to_split_data\u001b[0m\u001b[0;34m)\u001b[0m\u001b[0;34m\u001b[0m\u001b[0;34m\u001b[0m\u001b[0m\n\u001b[0m",
      "\u001b[0;32m~/Dropbox/BlockScience/MSML/src/Classes/Block.py\u001b[0m in \u001b[0;36m__init__\u001b[0;34m(self, data)\u001b[0m\n\u001b[1;32m     76\u001b[0m         \u001b[0mself\u001b[0m\u001b[0;34m.\u001b[0m\u001b[0mname\u001b[0m \u001b[0;34m=\u001b[0m \u001b[0mdata\u001b[0m\u001b[0;34m[\u001b[0m\u001b[0;34m\"name\"\u001b[0m\u001b[0;34m]\u001b[0m\u001b[0;34m\u001b[0m\u001b[0;34m\u001b[0m\u001b[0m\n\u001b[1;32m     77\u001b[0m         \u001b[0mself\u001b[0m\u001b[0;34m.\u001b[0m\u001b[0mcomponents\u001b[0m \u001b[0;34m=\u001b[0m \u001b[0mdata\u001b[0m\u001b[0;34m[\u001b[0m\u001b[0;34m\"components\"\u001b[0m\u001b[0;34m]\u001b[0m\u001b[0;34m\u001b[0m\u001b[0;34m\u001b[0m\u001b[0m\n\u001b[0;32m---> 78\u001b[0;31m         \u001b[0mself\u001b[0m\u001b[0;34m.\u001b[0m\u001b[0mdescription\u001b[0m \u001b[0;34m=\u001b[0m \u001b[0mdata\u001b[0m\u001b[0;34m[\u001b[0m\u001b[0;34m\"description\"\u001b[0m\u001b[0;34m]\u001b[0m\u001b[0;34m\u001b[0m\u001b[0;34m\u001b[0m\u001b[0m\n\u001b[0m\u001b[1;32m     79\u001b[0m         \u001b[0mself\u001b[0m\u001b[0;34m.\u001b[0m\u001b[0mconstraints\u001b[0m \u001b[0;34m=\u001b[0m \u001b[0mdata\u001b[0m\u001b[0;34m[\u001b[0m\u001b[0;34m\"constraints\"\u001b[0m\u001b[0;34m]\u001b[0m\u001b[0;34m\u001b[0m\u001b[0;34m\u001b[0m\u001b[0m\n\u001b[1;32m     80\u001b[0m         \u001b[0mself\u001b[0m\u001b[0;34m.\u001b[0m\u001b[0m_check_domain_mapping\u001b[0m\u001b[0;34m(\u001b[0m\u001b[0;34m)\u001b[0m\u001b[0;34m\u001b[0m\u001b[0;34m\u001b[0m\u001b[0m\n",
      "\u001b[0;31mKeyError\u001b[0m: 'description'"
     ]
    }
   ],
   "source": [
    "split_block_data = {\"name\": \"Split Block\",\n",
    "                       \"components\": [ms.mechanisms['Dummy Mechanism'],\n",
    "                                     ms.mechanisms['Dummy Mechanism']],\n",
    "                      \"description\": \"First split block\",\n",
    "                      \"constraints\": [],}\n",
    "\n",
    "split_block = SplitBlock(split_block_data)\n",
    "\n",
    "\n",
    "parallel_to_split_data = {\"name\": \"Parallel Block to Split Block\",\n",
    "                         \"components\": [parallel_block,\n",
    "                                        split_block],\n",
    "                         \"description\": \"Bring it all together\",\n",
    "                         \"constraints\": []}\n",
    "parallel_to_split_block = StackBlock(parallel_to_split_data)"
   ]
  },
  {
   "cell_type": "code",
   "execution_count": 5,
   "id": "41d20d97",
   "metadata": {},
   "outputs": [
    {
     "name": "stdout",
     "output_type": "stream",
     "text": [
      "```mermaid\n",
      "graph TB\n",
      "X1[Dummy Policy]\n",
      "```\n",
      "\n",
      "```mermaid\n",
      "graph TB\n",
      "subgraph X4[Stack Block]\n",
      "direction TB\n",
      "X1[Dummy Boundary Action]\n",
      "X2[Dummy Policy]\n",
      "X3[Dummy Mechanism]\n",
      "X1-->X2\n",
      "X2-->X3\n",
      "end\n",
      "```\n",
      "\n",
      "```mermaid\n",
      "graph TB\n",
      "subgraph X3[Parallel Block]\n",
      "direction LR\n",
      "X1[Dummy Policy]\n",
      "X2[Dummy Policy]\n",
      "X1 ~~~ X2\n",
      "end\n",
      "```\n",
      "\n"
     ]
    },
    {
     "ename": "NameError",
     "evalue": "name 'parallel_to_split_block' is not defined",
     "output_type": "error",
     "traceback": [
      "\u001b[0;31m---------------------------------------------------------------------------\u001b[0m",
      "\u001b[0;31mNameError\u001b[0m                                 Traceback (most recent call last)",
      "\u001b[0;32m/var/folders/y0/fwkpk2ps087b_2qxvhjstrfr0000gn/T/ipykernel_44596/133656367.py\u001b[0m in \u001b[0;36m<module>\u001b[0;34m\u001b[0m\n\u001b[1;32m      5\u001b[0m \u001b[0mprint\u001b[0m\u001b[0;34m(\u001b[0m\u001b[0mparallel_block\u001b[0m\u001b[0;34m.\u001b[0m\u001b[0mrender_mermaid_root\u001b[0m\u001b[0;34m(\u001b[0m\u001b[0;34m)\u001b[0m\u001b[0;34m)\u001b[0m\u001b[0;34m\u001b[0m\u001b[0;34m\u001b[0m\u001b[0m\n\u001b[1;32m      6\u001b[0m \u001b[0mprint\u001b[0m\u001b[0;34m(\u001b[0m\u001b[0;34m)\u001b[0m\u001b[0;34m\u001b[0m\u001b[0;34m\u001b[0m\u001b[0m\n\u001b[0;32m----> 7\u001b[0;31m \u001b[0mprint\u001b[0m\u001b[0;34m(\u001b[0m\u001b[0mparallel_to_split_block\u001b[0m\u001b[0;34m.\u001b[0m\u001b[0mrender_mermaid_root\u001b[0m\u001b[0;34m(\u001b[0m\u001b[0;34m)\u001b[0m\u001b[0;34m)\u001b[0m\u001b[0;34m\u001b[0m\u001b[0;34m\u001b[0m\u001b[0m\n\u001b[0m",
      "\u001b[0;31mNameError\u001b[0m: name 'parallel_to_split_block' is not defined"
     ]
    }
   ],
   "source": [
    "print(ms.policies['Dummy Policy'].render_mermaid_root())\n",
    "print()\n",
    "print(stack_block.render_mermaid_root())\n",
    "print()\n",
    "print(parallel_block.render_mermaid_root())\n",
    "print()\n",
    "print(parallel_to_split_block.render_mermaid_root())"
   ]
  },
  {
   "cell_type": "code",
   "execution_count": null,
   "id": "99d3bafb",
   "metadata": {},
   "outputs": [],
   "source": []
  }
 ],
 "metadata": {
  "kernelspec": {
   "display_name": "Python 3 (ipykernel)",
   "language": "python",
   "name": "python3"
  },
  "language_info": {
   "codemirror_mode": {
    "name": "ipython",
    "version": 3
   },
   "file_extension": ".py",
   "mimetype": "text/x-python",
   "name": "python",
   "nbconvert_exporter": "python",
   "pygments_lexer": "ipython3",
   "version": "3.9.12"
  }
 },
 "nbformat": 4,
 "nbformat_minor": 5
}
