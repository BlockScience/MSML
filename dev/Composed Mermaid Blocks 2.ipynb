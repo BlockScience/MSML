{
 "cells": [
  {
   "cell_type": "code",
   "execution_count": 1,
   "id": "3135b391",
   "metadata": {},
   "outputs": [],
   "source": [
    "import os\n",
    "\n",
    "os.chdir(\"..\")\n",
    "from src import (load_from_json, create_action_chains_graph, write_out_boundary_actions,\n",
    "                      write_out_policies, write_out_mechanisms, load_svg_graphviz, write_basic_report_full,\n",
    "                      write_action_chain_reports, write_spec_tree, create_parameter_impact_table,\n",
    "                     write_entity_reports)\n",
    "from src.Classes import ParallelBlock, StackBlock, SplitBlock\n",
    "from IPython.display import display, display_html\n",
    "from copy import deepcopy\n",
    "from examples.StarterRepo.src import math_spec_json\n",
    "ms = load_from_json(deepcopy(math_spec_json))"
   ]
  },
  {
   "cell_type": "code",
   "execution_count": 2,
   "id": "7af1c376",
   "metadata": {},
   "outputs": [],
   "source": [
    "parallel_block_data = {\"name\": \"Parallel Block\",\n",
    "                       \"components\": [ms.policies['Dummy Policy'], ms.policies['Dummy Policy']],\n",
    "                      \"description\": \"First parallel block\",\n",
    "                      \"constraints\": [],}\n",
    "\n",
    "parallel_block = ParallelBlock(parallel_block_data)"
   ]
  },
  {
   "cell_type": "code",
   "execution_count": 3,
   "id": "2b6a2f2f",
   "metadata": {},
   "outputs": [],
   "source": [
    "stack_block_data = {\"name\": \"Stack Block\",\n",
    "                       \"components\": [ms.boundary_actions['Dummy Boundary Action'],\n",
    "                                      ms.policies['Dummy Policy'],\n",
    "                                     ms.mechanisms['Dummy Mechanism']],\n",
    "                      \"description\": \"First stack block\",\n",
    "                      \"constraints\": [],}\n",
    "\n",
    "stack_block = StackBlock(stack_block_data)"
   ]
  },
  {
   "cell_type": "code",
   "execution_count": 4,
   "id": "c8ef8ad6",
   "metadata": {},
   "outputs": [],
   "source": [
    "split_block_data = {\"name\": \"Split Block\",\n",
    "                       \"components\": [ms.mechanisms['Dummy Mechanism'],\n",
    "                                     ms.mechanisms['Dummy Mechanism']],\n",
    "                      \"description\": \"First split block\",\n",
    "                      \"constraints\": [],}\n",
    "\n",
    "split_block = SplitBlock(split_block_data)\n",
    "\n",
    "\n",
    "parallel_to_split_data = {\"name\": \"Parallel Block to Split Block\",\n",
    "                         \"components\": [parallel_block,\n",
    "                                        split_block],\n",
    "                         \"description\": \"Bring it all together\",\n",
    "                         \"constraints\": []}\n",
    "parallel_to_split_block = StackBlock(parallel_to_split_data)"
   ]
  },
  {
   "cell_type": "code",
   "execution_count": 5,
   "id": "34adff91",
   "metadata": {},
   "outputs": [
    {
     "name": "stdout",
     "output_type": "stream",
     "text": [
      "```mermaid\n",
      "graph TB\n",
      "X1[Dummy Policy]\n",
      "```\n",
      "\n",
      "```mermaid\n",
      "graph TB\n",
      "subgraph X4[Stack Block]\n",
      "direction TB\n",
      "X1[Dummy Boundary Action]\n",
      "X2[Dummy Policy]\n",
      "X3[Dummy Mechanism]\n",
      "X1-->X2\n",
      "X2-->X3\n",
      "end\n",
      "```\n",
      "\n",
      "```mermaid\n",
      "graph TB\n",
      "subgraph X3[Parallel Block]\n",
      "direction LR\n",
      "X1[Dummy Policy]\n",
      "X2[Dummy Policy]\n",
      "X1 ~~~ X2\n",
      "end\n",
      "```\n",
      "\n",
      "```mermaid\n",
      "graph TB\n",
      "subgraph X6[Parallel Block to Split Block]\n",
      "direction TB\n",
      "subgraph X3[Parallel Block]\n",
      "direction LR\n",
      "X1[Dummy Policy]\n",
      "X2[Dummy Policy]\n",
      "X1 ~~~ X2\n",
      "end\n",
      "X4[Dummy Mechanism]\n",
      "X5[Dummy Mechanism]\n",
      "X4 ~~~ X5\n",
      "X3-->X4\n",
      "X3-->X5\n",
      "end\n",
      "```\n"
     ]
    }
   ],
   "source": [
    "print(ms.policies['Dummy Policy'].render_mermaid_root())\n",
    "print()\n",
    "print(stack_block.render_mermaid_root())\n",
    "print()\n",
    "print(parallel_block.render_mermaid_root())\n",
    "print()\n",
    "print(parallel_to_split_block.render_mermaid_root())"
   ]
  },
  {
   "cell_type": "code",
   "execution_count": null,
   "id": "a13b0986",
   "metadata": {},
   "outputs": [],
   "source": []
  }
 ],
 "metadata": {
  "kernelspec": {
   "display_name": "Python 3 (ipykernel)",
   "language": "python",
   "name": "python3"
  },
  "language_info": {
   "codemirror_mode": {
    "name": "ipython",
    "version": 3
   },
   "file_extension": ".py",
   "mimetype": "text/x-python",
   "name": "python",
   "nbconvert_exporter": "python",
   "pygments_lexer": "ipython3",
   "version": "3.9.7"
  }
 },
 "nbformat": 4,
 "nbformat_minor": 5
}
